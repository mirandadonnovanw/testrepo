{
  "nbformat": 4,
  "nbformat_minor": 0,
  "metadata": {
    "colab": {
      "provenance": [],
      "include_colab_link": true
    },
    "kernelspec": {
      "name": "python3",
      "display_name": "Python 3"
    },
    "language_info": {
      "name": "python"
    }
  },
  "cells": [
    {
      "cell_type": "markdown",
      "metadata": {
        "id": "view-in-github",
        "colab_type": "text"
      },
      "source": [
        "<a href=\"https://colab.research.google.com/github/mirandadonnovanw/testrepo/blob/main/Crash_Course_Excercises.ipynb\" target=\"_parent\"><img src=\"https://colab.research.google.com/assets/colab-badge.svg\" alt=\"Open In Colab\"/></a>"
      ]
    },
    {
      "cell_type": "code",
      "source": [
        "# Introduction\n",
        "print(\"Hello Python World!\")"
      ],
      "metadata": {
        "colab": {
          "base_uri": "https://localhost:8080/"
        },
        "id": "7ZWTKGkJph6T",
        "outputId": "ac0911d4-7517-4c01-b8fa-d4f7c8812e72"
      },
      "execution_count": null,
      "outputs": [
        {
          "output_type": "stream",
          "name": "stdout",
          "text": [
            "Hello Python World!\n"
          ]
        }
      ]
    },
    {
      "cell_type": "code",
      "source": [
        "print('Hello, '+'It\\'s women\\'s day!\\n')"
      ],
      "metadata": {
        "colab": {
          "base_uri": "https://localhost:8080/"
        },
        "id": "MM6P0NmFyf8-",
        "outputId": "d56ad357-2d5c-4316-aeef-96704baea392"
      },
      "execution_count": null,
      "outputs": [
        {
          "output_type": "stream",
          "name": "stdout",
          "text": [
            "Hello, It's women's day!\n",
            "\n"
          ]
        }
      ]
    },
    {
      "cell_type": "code",
      "source": [
        "# Variables\n",
        "message = \"Hello SICK SAD WORLD!\"\n",
        "print(message)"
      ],
      "metadata": {
        "colab": {
          "base_uri": "https://localhost:8080/"
        },
        "id": "onr3pfdGpxq0",
        "outputId": "6023181a-3b3f-42df-d139-2933f53aca1e"
      },
      "execution_count": null,
      "outputs": [
        {
          "output_type": "stream",
          "name": "stdout",
          "text": [
            "Hello SICK SAD WORLD!\n"
          ]
        }
      ]
    },
    {
      "cell_type": "code",
      "source": [
        "# Strings\n",
        "print('I told my friend, \"Python is my favorite language!\"')\n",
        "\n",
        "print(\"The language 'Python' is named after Monty Python, not the snake.\")"
      ],
      "metadata": {
        "colab": {
          "base_uri": "https://localhost:8080/"
        },
        "id": "oV_KT4u3pzyW",
        "outputId": "fda30764-80a0-4979-f7bf-5414d2f2f681"
      },
      "execution_count": null,
      "outputs": [
        {
          "output_type": "stream",
          "name": "stdout",
          "text": [
            "I told my friend, \"Python is my favorite language!\"\n",
            "The language 'Python' is named after Monty Python, not the snake.\n"
          ]
        }
      ]
    },
    {
      "cell_type": "code",
      "source": [
        "#Changing Case in a String with Methods\n",
        "#1\n",
        "name = \"ada lovelace\"\n",
        "print(name.title())\n",
        "#2\n",
        "name = \"Ada Lovelace\"\n",
        "print(name.upper())\n",
        "print(name.lower())"
      ],
      "metadata": {
        "colab": {
          "base_uri": "https://localhost:8080/"
        },
        "id": "P_w8bQb8p234",
        "outputId": "e2bd9195-7c01-45da-da9a-8970d0f6014a"
      },
      "execution_count": null,
      "outputs": [
        {
          "output_type": "stream",
          "name": "stdout",
          "text": [
            "Ada Lovelace\n",
            "ADA LOVELACE\n",
            "ada lovelace\n"
          ]
        }
      ]
    },
    {
      "cell_type": "code",
      "source": [
        "# Combining or Concatenating Strings\n",
        "#1\n",
        "first_name = \"ada\"\n",
        "last_name = \"lovelace\"\n",
        "full_name = first_name + \" \" + last_name\n",
        "print(full_name.title())\n",
        "\n",
        "#2\n",
        "first_name = \"ada\"\n",
        "last_name = \"lovelace\"\n",
        "full_name = first_name + \" \" + last_name\n",
        "print(\"Hello, \" + full_name.title() + \"!\")\n",
        "\n",
        "#3\n",
        "first_name = \"ada\"\n",
        "last_name = \"lovelace\"\n",
        "full_name = first_name + \" \" + last_name\n",
        "\n",
        "message = \"Hello, \" + full_name.title() + \"!\"\n",
        "print(message)"
      ],
      "metadata": {
        "colab": {
          "base_uri": "https://localhost:8080/"
        },
        "id": "MiY5qhbFp5Q1",
        "outputId": "f8f0d5bc-abd7-4e3f-e5d6-baed57dd19e2"
      },
      "execution_count": null,
      "outputs": [
        {
          "output_type": "stream",
          "name": "stdout",
          "text": [
            "Ada Lovelace\n",
            "Hello, Ada Lovelace!\n",
            "Hello, Ada Lovelace!\n"
          ]
        }
      ]
    },
    {
      "cell_type": "code",
      "source": [
        "# Whitespace to Strings with Tabs or Newlines\n",
        "#1 tab \\t\n",
        "print(\"Python\")\n",
        "print(\"\\tPython\")\n",
        "\n",
        "#2 newline \\n\n",
        "print(\"Languages:\\nPython\\nC\\nJavaScript\")\n",
        "\n",
        "#3 combined \\n\\t\n",
        "print(\"Languages:\\n\\tPython\\n\\tC\\n\\tJavaScript\")"
      ],
      "metadata": {
        "colab": {
          "base_uri": "https://localhost:8080/"
        },
        "id": "_L5wEWmxqCsq",
        "outputId": "0c7ad146-4ae6-4d03-c26b-39aa1d95cac7"
      },
      "execution_count": null,
      "outputs": [
        {
          "output_type": "stream",
          "name": "stdout",
          "text": [
            "Python\n",
            "\tPython\n",
            "Languages:\n",
            "Python\n",
            "C\n",
            "JavaScript\n",
            "Languages:\n",
            "\tPython\n",
            "\tC\n",
            "\tJavaScript\n"
          ]
        }
      ]
    },
    {
      "cell_type": "code",
      "source": [
        "# Numbers\n",
        "print(2 + 3)\n",
        "print(3 - 2)\n",
        "print(2 * 3)\n",
        "print(3 / 2)\n",
        "print(3**2)\n",
        "print(3**3)\n",
        "print(10**6)\n",
        "print(2 + 3 * 4)\n",
        "print((2 + 3) * 4)"
      ],
      "metadata": {
        "colab": {
          "base_uri": "https://localhost:8080/"
        },
        "id": "xXbY7VCJqRHK",
        "outputId": "4f2fae7c-5b0e-4be4-db0b-c8b12c7ac4bf"
      },
      "execution_count": null,
      "outputs": [
        {
          "output_type": "stream",
          "name": "stdout",
          "text": [
            "5\n",
            "1\n",
            "6\n",
            "1.5\n",
            "9\n",
            "27\n",
            "1000000\n",
            "14\n",
            "20\n"
          ]
        }
      ]
    },
    {
      "cell_type": "code",
      "source": [
        "# Floats\n",
        "print(0.1 + 0.1)\n",
        "print(0.2 + 0.2)\n",
        "print(2 * 0.1)\n",
        "print(2 * 0.2)\n",
        "print(0.2 + 0.1)\n",
        "print(3 * 0.1)"
      ],
      "metadata": {
        "colab": {
          "base_uri": "https://localhost:8080/"
        },
        "id": "iP99NV3MqTkI",
        "outputId": "f4307edc-9395-420f-b6fc-6fb0a9da9e90"
      },
      "execution_count": null,
      "outputs": [
        {
          "output_type": "stream",
          "name": "stdout",
          "text": [
            "0.2\n",
            "0.4\n",
            "0.2\n",
            "0.4\n",
            "0.30000000000000004\n",
            "0.30000000000000004\n"
          ]
        }
      ]
    },
    {
      "cell_type": "code",
      "source": [
        "# Type Errors w/ str()function\n",
        "\n",
        "# ****Example w/ Type Error mistake****\n",
        "#age = 23\n",
        "#message = \"Happy \" + age + \"rd Birthday!\"\n",
        "#print(message)\n"
      ],
      "metadata": {
        "id": "FA0yCm23qWGG"
      },
      "execution_count": null,
      "outputs": []
    },
    {
      "cell_type": "code",
      "source": [
        "#Example 1\n",
        "age = 23\n",
        "message = \"Happy \" + str(age) + \"rd Birthday!\"\n",
        "print(message)"
      ],
      "metadata": {
        "colab": {
          "base_uri": "https://localhost:8080/"
        },
        "id": "VEkLQs9Wqaut",
        "outputId": "e2f5f086-af35-4f8f-9358-b072cc312099"
      },
      "execution_count": null,
      "outputs": [
        {
          "output_type": "stream",
          "name": "stdout",
          "text": [
            "Happy 23rd Birthday!\n"
          ]
        }
      ]
    },
    {
      "cell_type": "code",
      "source": [
        "#Example 2\n",
        "minutes = 128\n",
        "message = \"Epic \" + str(minutes) + \"' win. Congrats!\"\n",
        "print(message)"
      ],
      "metadata": {
        "colab": {
          "base_uri": "https://localhost:8080/"
        },
        "id": "e7I3lCohqcmP",
        "outputId": "7fc35832-c4e5-4bfb-f8ab-53973b15304a"
      },
      "execution_count": null,
      "outputs": [
        {
          "output_type": "stream",
          "name": "stdout",
          "text": [
            "Epic 128' win. Congrats!\n"
          ]
        }
      ]
    },
    {
      "cell_type": "code",
      "source": [
        "# The Zen of Python\n",
        "import this"
      ],
      "metadata": {
        "colab": {
          "base_uri": "https://localhost:8080/"
        },
        "id": "Avt0MTYOqeo6",
        "outputId": "7e954a3f-b751-4c87-c5de-0a809be14815"
      },
      "execution_count": null,
      "outputs": [
        {
          "output_type": "stream",
          "name": "stdout",
          "text": [
            "The Zen of Python, by Tim Peters\n",
            "\n",
            "Beautiful is better than ugly.\n",
            "Explicit is better than implicit.\n",
            "Simple is better than complex.\n",
            "Complex is better than complicated.\n",
            "Flat is better than nested.\n",
            "Sparse is better than dense.\n",
            "Readability counts.\n",
            "Special cases aren't special enough to break the rules.\n",
            "Although practicality beats purity.\n",
            "Errors should never pass silently.\n",
            "Unless explicitly silenced.\n",
            "In the face of ambiguity, refuse the temptation to guess.\n",
            "There should be one-- and preferably only one --obvious way to do it.\n",
            "Although that way may not be obvious at first unless you're Dutch.\n",
            "Now is better than never.\n",
            "Although never is often better than *right* now.\n",
            "If the implementation is hard to explain, it's a bad idea.\n",
            "If the implementation is easy to explain, it may be a good idea.\n",
            "Namespaces are one honking great idea -- let's do more of those!\n"
          ]
        }
      ]
    },
    {
      "cell_type": "code",
      "source": [
        "# Lists\n",
        "bicycles = ['trek', 'cannodale', 'redline', 'specialized']\n",
        "print(bicycles)"
      ],
      "metadata": {
        "colab": {
          "base_uri": "https://localhost:8080/"
        },
        "id": "hQce3YxHqgxK",
        "outputId": "1eed0edb-3bab-41ba-a9c1-0bf84035bce4"
      },
      "execution_count": null,
      "outputs": [
        {
          "output_type": "stream",
          "name": "stdout",
          "text": [
            "['trek', 'cannodale', 'redline', 'specialized']\n"
          ]
        }
      ]
    },
    {
      "cell_type": "code",
      "source": [
        "# Access to Elements in a List\n",
        "#By index / position #\n",
        "bicycles = ['trek', 'cannodale', 'redline', 'specialized']\n",
        "print(bicycles[0])\n",
        "\n",
        "bicycles = ['trek', 'cannodale', 'redline', 'specialized']\n",
        "print(bicycles[1])\n",
        "print(bicycles[3])"
      ],
      "metadata": {
        "colab": {
          "base_uri": "https://localhost:8080/"
        },
        "id": "khdFk9Gxqje_",
        "outputId": "924427d5-68b1-4c9b-eca2-e4be747b7409"
      },
      "execution_count": null,
      "outputs": [
        {
          "output_type": "stream",
          "name": "stdout",
          "text": [
            "trek\n",
            "cannodale\n",
            "specialized\n"
          ]
        }
      ]
    },
    {
      "cell_type": "code",
      "source": [
        "# Last item in the list [index -1]\n",
        "bicycles = ['trek', 'cannodale', 'redline', 'specialized']\n",
        "print(bicycles[-1])"
      ],
      "metadata": {
        "colab": {
          "base_uri": "https://localhost:8080/"
        },
        "id": "9VCVhmPUql81",
        "outputId": "d1d7e04e-51e1-41d7-c383-12ae3e545175"
      },
      "execution_count": null,
      "outputs": [
        {
          "output_type": "stream",
          "name": "stdout",
          "text": [
            "specialized\n"
          ]
        }
      ]
    },
    {
      "cell_type": "code",
      "source": [
        "#By methods\n",
        "bicycles = ['trek', 'cannodale', 'redline', 'specialized']\n",
        "print(bicycles[0].title())"
      ],
      "metadata": {
        "colab": {
          "base_uri": "https://localhost:8080/"
        },
        "id": "62eXiKJIqr4Z",
        "outputId": "c2811135-2316-4c75-d845-345114947836"
      },
      "execution_count": null,
      "outputs": [
        {
          "output_type": "stream",
          "name": "stdout",
          "text": [
            "Trek\n"
          ]
        }
      ]
    },
    {
      "cell_type": "code",
      "source": [
        "# Individual Values from a List\n",
        "#1st Element + Concatenation\n",
        "bicycles = ['trek', 'cannondale', 'redline', 'specialized']\n",
        "message = \"My first bicycle was a \" + bicycles[0].title() + \".\"\n",
        "print(message)"
      ],
      "metadata": {
        "colab": {
          "base_uri": "https://localhost:8080/"
        },
        "id": "pfa8K9E2qtuA",
        "outputId": "bf08e442-3ea4-4ac6-8b78-f7feadaec9d0"
      },
      "execution_count": null,
      "outputs": [
        {
          "output_type": "stream",
          "name": "stdout",
          "text": [
            "My first bicycle was a Trek.\n"
          ]
        }
      ]
    },
    {
      "cell_type": "code",
      "source": [
        "# Modifying Elements in a List\n",
        "motorcycles = ['Honda', 'Yamaha', 'susuki']\n",
        "print(motorcycles)\n",
        "\n",
        "motorcycles[0] = 'ducati'\n",
        "print(motorcycles)"
      ],
      "metadata": {
        "colab": {
          "base_uri": "https://localhost:8080/"
        },
        "id": "987Xfzrsqvyy",
        "outputId": "3e66e097-036a-43a8-b1a2-a6e153df7af4"
      },
      "execution_count": null,
      "outputs": [
        {
          "output_type": "stream",
          "name": "stdout",
          "text": [
            "['Honda', 'Yamaha', 'susuki']\n",
            "['ducati', 'Yamaha', 'susuki']\n"
          ]
        }
      ]
    },
    {
      "cell_type": "code",
      "source": [
        "# Appending Elements to the End of a List\n",
        "motorcycles = ['Honda', 'Yamaha', 'susuki']\n",
        "print(motorcycles)\n",
        "\n",
        "motorcycles.append('ducati')\n",
        "print(motorcycles)"
      ],
      "metadata": {
        "colab": {
          "base_uri": "https://localhost:8080/"
        },
        "id": "6OdwNbY_qxVH",
        "outputId": "a0198f87-4b63-426b-a576-69d6fb6cbece"
      },
      "execution_count": null,
      "outputs": [
        {
          "output_type": "stream",
          "name": "stdout",
          "text": [
            "['Honda', 'Yamaha', 'susuki']\n",
            "['Honda', 'Yamaha', 'susuki', 'ducati']\n"
          ]
        }
      ]
    },
    {
      "cell_type": "code",
      "source": [
        "# Append() method using an empty list\n",
        "motorcycles = []\n",
        "motorcycles.append('honda')\n",
        "motorcycles.append('yamaha')\n",
        "motorcycles.append('suzuki')\n",
        "print(motorcycles)"
      ],
      "metadata": {
        "colab": {
          "base_uri": "https://localhost:8080/"
        },
        "id": "tU_RmbSTq19T",
        "outputId": "48f4792f-271c-4e77-cb40-c47281c3f90b"
      },
      "execution_count": null,
      "outputs": [
        {
          "output_type": "stream",
          "name": "stdout",
          "text": [
            "['honda', 'yamaha', 'suzuki']\n"
          ]
        }
      ]
    },
    {
      "cell_type": "code",
      "source": [
        "#Insert Elements into a List\n",
        "motorcycles = ['honda', 'yamaha', 'suzuki']\n",
        "motorcycles.insert(0, 'ducati')\n",
        "print(motorcycles)"
      ],
      "metadata": {
        "colab": {
          "base_uri": "https://localhost:8080/"
        },
        "id": "hwr8ocU3q6OA",
        "outputId": "cc8471d7-dd8e-49ee-a4a5-baccd7e16fbc"
      },
      "execution_count": null,
      "outputs": [
        {
          "output_type": "stream",
          "name": "stdout",
          "text": [
            "['ducati', 'honda', 'yamaha', 'suzuki']\n"
          ]
        }
      ]
    },
    {
      "cell_type": "code",
      "source": [
        "# Remove Items from a List\n",
        "motorcycles = ['Honda', 'Yamaha', 'Suzuki']\n",
        "print(motorcycles)\n",
        "\n",
        "del motorcycles[0]\n",
        "print(motorcycles)"
      ],
      "metadata": {
        "colab": {
          "base_uri": "https://localhost:8080/"
        },
        "id": "05miUOXLq8Lm",
        "outputId": "a42a208e-b815-45fb-ab2c-bace2bd4d76a"
      },
      "execution_count": null,
      "outputs": [
        {
          "output_type": "stream",
          "name": "stdout",
          "text": [
            "['Honda', 'Yamaha', 'Suzuki']\n",
            "['Yamaha', 'Suzuki']\n"
          ]
        }
      ]
    },
    {
      "cell_type": "code",
      "source": [
        "# Remove knowing the Index\n",
        "motorcycles = ['Honda', 'Yamaha', 'Suzuki']\n",
        "print(motorcycles)\n",
        "\n",
        "del motorcycles[1]\n",
        "print(motorcycles)"
      ],
      "metadata": {
        "colab": {
          "base_uri": "https://localhost:8080/"
        },
        "id": "AkTM1cmMq-k-",
        "outputId": "633f82dc-ca42-44c0-bc04-012f7337eff4"
      },
      "execution_count": null,
      "outputs": [
        {
          "output_type": "stream",
          "name": "stdout",
          "text": [
            "['Honda', 'Yamaha', 'Suzuki']\n",
            "['Honda', 'Suzuki']\n"
          ]
        }
      ]
    },
    {
      "cell_type": "code",
      "source": [
        "# Remove using the pop() Method\n",
        "motorcycles = ['Honda', 'yamaha', 'suzuki']\n",
        "print(motorcycles)\n",
        "\n",
        "popped_motorcycle = motorcycles.pop()\n",
        "print(motorcycles)\n",
        "print(popped_motorcycle)"
      ],
      "metadata": {
        "colab": {
          "base_uri": "https://localhost:8080/"
        },
        "id": "t4hqy5wJrDIl",
        "outputId": "b00727b1-4554-4f69-dd17-cd9d6c55851c"
      },
      "execution_count": null,
      "outputs": [
        {
          "output_type": "stream",
          "name": "stdout",
          "text": [
            "['Honda', 'yamaha', 'suzuki']\n",
            "['Honda', 'yamaha']\n",
            "suzuki\n"
          ]
        }
      ]
    },
    {
      "cell_type": "code",
      "source": [
        "# Applied po() Method example\n",
        "motorcycles = ['honda', 'yamaha', 'suzuki']\n",
        "last_owned = motorcycles.pop()\n",
        "print(\"The last motorcycle I owned was a \" + last_owned.title() + \".\")"
      ],
      "metadata": {
        "colab": {
          "base_uri": "https://localhost:8080/"
        },
        "id": "DfzqMwT8rHOj",
        "outputId": "99a305ef-07b5-4046-dfe7-4307bafb11e7"
      },
      "execution_count": null,
      "outputs": [
        {
          "output_type": "stream",
          "name": "stdout",
          "text": [
            "The last motorcycle I owned was a Suzuki.\n"
          ]
        }
      ]
    },
    {
      "cell_type": "code",
      "source": [
        "# Pop Items from any Position in a List\n",
        "motorcycles = ['honda', 'yamaha', 'suzuki']\n",
        "first_owned = motorcycles.pop(0)\n",
        "print('The first motorcycle i owned was a ' + first_owned.title() + '.')"
      ],
      "metadata": {
        "colab": {
          "base_uri": "https://localhost:8080/"
        },
        "id": "vk9vg2_jrJSF",
        "outputId": "c1ce096e-3f9b-431b-9ef2-d6d94b957e4a"
      },
      "execution_count": null,
      "outputs": [
        {
          "output_type": "stream",
          "name": "stdout",
          "text": [
            "The first motorcycle i owned was a Honda.\n"
          ]
        }
      ]
    },
    {
      "cell_type": "code",
      "source": [
        "# Remove an Item by Value\n",
        "motorcycles = ['honda', 'yamaha', 'suzuki', 'ducati']\n",
        "print(motorcycles)\n",
        "\n",
        "motorcycles.remove('ducati')\n",
        "print(motorcycles)"
      ],
      "metadata": {
        "colab": {
          "base_uri": "https://localhost:8080/"
        },
        "id": "R1QGpFkKrLb6",
        "outputId": "4cdd7bea-da04-41b6-9ae6-a4cb8edb2130"
      },
      "execution_count": null,
      "outputs": [
        {
          "output_type": "stream",
          "name": "stdout",
          "text": [
            "['honda', 'yamaha', 'suzuki', 'ducati']\n",
            "['honda', 'yamaha', 'suzuki']\n"
          ]
        }
      ]
    },
    {
      "cell_type": "code",
      "source": [
        "# Remove to work with a value that's being removed from a list\n",
        "motorcycles = ['honda', 'yamaha', 'suzuki', 'ducati']\n",
        "print(motorcycles)\n",
        "\n",
        "too_expensive = 'ducati'\n",
        "motorcycles.remove(too_expensive)\n",
        "print(motorcycles)\n",
        "print(\"\\nA \" + too_expensive.title() + \" is too expensive for me.\")"
      ],
      "metadata": {
        "colab": {
          "base_uri": "https://localhost:8080/"
        },
        "id": "mS3JwYGorNIp",
        "outputId": "6445cddf-2edb-4ad2-d948-4c404011b836"
      },
      "execution_count": null,
      "outputs": [
        {
          "output_type": "stream",
          "name": "stdout",
          "text": [
            "['honda', 'yamaha', 'suzuki', 'ducati']\n",
            "['honda', 'yamaha', 'suzuki']\n",
            "\n",
            "A Ducati is too expensive for me.\n"
          ]
        }
      ]
    },
    {
      "cell_type": "code",
      "source": [
        "# Sorting Lists Permanently in alphabetical order\n",
        "cars = ['bmw', 'audi', 'toyota', 'subaru']\n",
        "cars.sort()\n",
        "print(cars)"
      ],
      "metadata": {
        "colab": {
          "base_uri": "https://localhost:8080/"
        },
        "id": "KQhKu_sirRqc",
        "outputId": "201e9972-a17a-4d7a-f28c-4e2193348ebc"
      },
      "execution_count": null,
      "outputs": [
        {
          "output_type": "stream",
          "name": "stdout",
          "text": [
            "['audi', 'bmw', 'subaru', 'toyota']\n"
          ]
        }
      ]
    },
    {
      "cell_type": "code",
      "source": [
        "# Reverting list in alphabetical order\n",
        "cars = ['bmw', 'audi', 'toyota', 'subaru']\n",
        "cars.sort(reverse=True)\n",
        "print(cars)"
      ],
      "metadata": {
        "colab": {
          "base_uri": "https://localhost:8080/"
        },
        "id": "7I3g2DhFrTek",
        "outputId": "1780e1b4-994c-40bb-81d5-fab221297780"
      },
      "execution_count": null,
      "outputs": [
        {
          "output_type": "stream",
          "name": "stdout",
          "text": [
            "['toyota', 'subaru', 'bmw', 'audi']\n"
          ]
        }
      ]
    },
    {
      "cell_type": "code",
      "source": [
        "# Sort a list temporaroly\n",
        "cars = ['bmw', 'audi', 'toyota', 'subaru']\n",
        "\n",
        "print(\"Here's the original list:\")\n",
        "print(cars)\n",
        "\n",
        "print(\"\\nHere is the sorted list:\")\n",
        "print(sorted(cars))\n",
        "\n",
        "print(\"\\nHere is the original list again:\")\n",
        "print(cars)"
      ],
      "metadata": {
        "colab": {
          "base_uri": "https://localhost:8080/"
        },
        "id": "g8YGpWYjrVVK",
        "outputId": "efd08945-b7aa-4dbe-b274-ce24e8f3d82c"
      },
      "execution_count": null,
      "outputs": [
        {
          "output_type": "stream",
          "name": "stdout",
          "text": [
            "Here's the original list:\n",
            "['bmw', 'audi', 'toyota', 'subaru']\n",
            "\n",
            "Here is the sorted list:\n",
            "['audi', 'bmw', 'subaru', 'toyota']\n",
            "\n",
            "Here is the original list again:\n",
            "['bmw', 'audi', 'toyota', 'subaru']\n"
          ]
        }
      ]
    },
    {
      "cell_type": "code",
      "source": [
        "# Print list in Reverse Order\n",
        "cars = ['bmw', 'audi', 'toyota', 'subaru']\n",
        "print(cars)\n",
        "\n",
        "cars.reverse()\n",
        "print(\"\\nHere is the reverse list.\")\n",
        "print(cars)"
      ],
      "metadata": {
        "colab": {
          "base_uri": "https://localhost:8080/"
        },
        "id": "APeiYRh4rXz4",
        "outputId": "7710d51b-b851-4b86-ef7a-20687fcfa76d"
      },
      "execution_count": null,
      "outputs": [
        {
          "output_type": "stream",
          "name": "stdout",
          "text": [
            "['bmw', 'audi', 'toyota', 'subaru']\n",
            "\n",
            "Here is the reverse list.\n",
            "['subaru', 'toyota', 'audi', 'bmw']\n"
          ]
        }
      ]
    },
    {
      "cell_type": "code",
      "source": [
        "# Find the Length of a List\n",
        "cars = ['bmw', 'audi', 'toyota', 'subaru']\n",
        "print(len(cars))"
      ],
      "metadata": {
        "colab": {
          "base_uri": "https://localhost:8080/"
        },
        "id": "CTaiwJ4JraHl",
        "outputId": "8a627e02-d9e8-4d6a-e799-14b635ad213d"
      },
      "execution_count": null,
      "outputs": [
        {
          "output_type": "stream",
          "name": "stdout",
          "text": [
            "4\n"
          ]
        }
      ]
    },
    {
      "cell_type": "code",
      "source": [
        "# List index errors\n",
        "motorcycles = ['honda', 'yamaha', 'suzuki']\n",
        "print(motorcycles[-1])"
      ],
      "metadata": {
        "colab": {
          "base_uri": "https://localhost:8080/"
        },
        "id": "p8FOPTF6rb2b",
        "outputId": "015c718d-213f-441b-9ceb-364d153bc06a"
      },
      "execution_count": null,
      "outputs": [
        {
          "output_type": "stream",
          "name": "stdout",
          "text": [
            "suzuki\n"
          ]
        }
      ]
    },
    {
      "cell_type": "code",
      "source": [
        "# Looping trough a list\n",
        "magicians = ['alice', 'david', 'carolina']\n",
        "for magician in magicians: \n",
        "    print(magician)"
      ],
      "metadata": {
        "colab": {
          "base_uri": "https://localhost:8080/"
        },
        "id": "c38fdAaCrdlq",
        "outputId": "e250e0b8-647d-486e-87de-3b65fd770091"
      },
      "execution_count": null,
      "outputs": [
        {
          "output_type": "stream",
          "name": "stdout",
          "text": [
            "alice\n",
            "david\n",
            "carolina\n"
          ]
        }
      ]
    },
    {
      "cell_type": "code",
      "source": [
        "# Work beyond loops\n",
        "magicians = ['alice', 'david', 'carolina']\n",
        "for magician in magicians: \n",
        "    print(magician.title() + \", that was a great trick!\")\n",
        "\n",
        "magicians = ['alice', 'david', 'carolina']\n",
        "for magician in magicians: \n",
        "    print(magician.title() + \", that was a great trick!\")\n",
        "    print(\"i can't wait to see your next trick, \"+ magician.title() + \".\\n\")\n",
        "print(\"Thank you, everyone. That was a great magic show!\")"
      ],
      "metadata": {
        "colab": {
          "base_uri": "https://localhost:8080/"
        },
        "id": "YA15VpAsrfPs",
        "outputId": "883037aa-64e7-4543-8989-a7a351dc12d3"
      },
      "execution_count": null,
      "outputs": [
        {
          "output_type": "stream",
          "name": "stdout",
          "text": [
            "Alice, that was a great trick!\n",
            "David, that was a great trick!\n",
            "Carolina, that was a great trick!\n",
            "Alice, that was a great trick!\n",
            "i can't wait to see your next trick, Alice.\n",
            "\n",
            "David, that was a great trick!\n",
            "i can't wait to see your next trick, David.\n",
            "\n",
            "Carolina, that was a great trick!\n",
            "i can't wait to see your next trick, Carolina.\n",
            "\n",
            "Thank you, everyone. That was a great magic show!\n"
          ]
        }
      ]
    },
    {
      "cell_type": "code",
      "source": [
        "# Making numerical lists\n",
        "for value in range(1,5):\n",
        "  print (value)\n",
        "\n",
        "numbers = list(range(1,6))\n",
        "print(numbers)\n",
        "\n",
        "even_numbers = list(range(2,11,2))\n",
        "print(even_numbers)\n",
        "\n",
        "squares = []\n",
        "for value in range(1,11):\n",
        "    square = value**2\n",
        "    squares.append(square)\n",
        "print(squares)"
      ],
      "metadata": {
        "colab": {
          "base_uri": "https://localhost:8080/"
        },
        "id": "C5wUznmhriAY",
        "outputId": "a0b80969-a0b6-4b9a-8d22-962513c0feb8"
      },
      "execution_count": null,
      "outputs": [
        {
          "output_type": "stream",
          "name": "stdout",
          "text": [
            "1\n",
            "2\n",
            "3\n",
            "4\n",
            "[1, 2, 3, 4, 5]\n",
            "[2, 4, 6, 8, 10]\n",
            "[1, 4, 9, 16, 25, 36, 49, 64, 81, 100]\n"
          ]
        }
      ]
    },
    {
      "cell_type": "code",
      "source": [
        "#List Comprehension\n",
        "squares = [value**2 for value in range (1,11)]\n",
        "print(squares)"
      ],
      "metadata": {
        "colab": {
          "base_uri": "https://localhost:8080/"
        },
        "id": "4kKDSVj4rlRh",
        "outputId": "653b2261-ecea-4d40-a046-187dab1c1999"
      },
      "execution_count": null,
      "outputs": [
        {
          "output_type": "stream",
          "name": "stdout",
          "text": [
            "[1, 4, 9, 16, 25, 36, 49, 64, 81, 100]\n"
          ]
        }
      ]
    },
    {
      "cell_type": "code",
      "source": [
        "#Slice a List\n",
        "prayers = ['Charles', 'Martina', 'Michael', 'Florence', 'Eli']\n",
        "print(prayers)\n",
        "\n",
        "prayers = ['Charles', 'Martina', 'Michael', 'Florence', 'Eli']\n",
        "print(prayers[0:3])"
      ],
      "metadata": {
        "colab": {
          "base_uri": "https://localhost:8080/"
        },
        "id": "f-wFf9jirnHF",
        "outputId": "af5980d6-61e7-400d-9dfd-78d8ae9f42d1"
      },
      "execution_count": null,
      "outputs": [
        {
          "output_type": "stream",
          "name": "stdout",
          "text": [
            "['Charles', 'Martina', 'Michael', 'Florence', 'Eli']\n",
            "['Charles', 'Martina', 'Michael']\n"
          ]
        }
      ]
    },
    {
      "cell_type": "code",
      "source": [
        "#Reverse slicing \n",
        "prayers = ['Charles', 'Martina', 'Michael', 'Florence', 'Eli']\n",
        "print(prayers[-3:])"
      ],
      "metadata": {
        "colab": {
          "base_uri": "https://localhost:8080/"
        },
        "id": "bAdAii3iro77",
        "outputId": "c082c136-ae49-4305-8177-00530de6eb64"
      },
      "execution_count": null,
      "outputs": [
        {
          "output_type": "stream",
          "name": "stdout",
          "text": [
            "['Michael', 'Florence', 'Eli']\n"
          ]
        }
      ]
    },
    {
      "cell_type": "code",
      "source": [
        "#Looping through a slice\n",
        "prayers = ['Charles', 'Martina', 'Michael', 'Florence', 'Eli']\n",
        "print(\"Here are the first three players on my team:\")\n",
        "for prayer in prayers[:3]:\n",
        "    print(prayer.title())"
      ],
      "metadata": {
        "colab": {
          "base_uri": "https://localhost:8080/"
        },
        "id": "OBjSUpMaruBO",
        "outputId": "d48f6768-0dd7-4ca4-ea40-5c183ffa3b4d"
      },
      "execution_count": null,
      "outputs": [
        {
          "output_type": "stream",
          "name": "stdout",
          "text": [
            "Here are the first three players on my team:\n",
            "Charles\n",
            "Martina\n",
            "Michael\n"
          ]
        }
      ]
    },
    {
      "cell_type": "code",
      "source": [
        "#Copying an entire list\n",
        "my_foods = ['Pizza', 'Sushi', 'Creme-Brule']\n",
        "friends_foods = my_foods[:]\n",
        "\n",
        "print(\"My favorite foods are:\")\n",
        "print(my_foods)\n",
        "\n",
        "print(\"\\nMy friend's favorite foods are:\")\n",
        "print(friends_foods)"
      ],
      "metadata": {
        "colab": {
          "base_uri": "https://localhost:8080/"
        },
        "id": "J-gGUvOprwDW",
        "outputId": "4aa0cfdc-677d-43b8-b1fc-a38a5b78c9d1"
      },
      "execution_count": null,
      "outputs": [
        {
          "output_type": "stream",
          "name": "stdout",
          "text": [
            "My favorite foods are:\n",
            "['Pizza', 'Sushi', 'Creme-Brule']\n",
            "\n",
            "My friend's favorite foods are:\n",
            "['Pizza', 'Sushi', 'Creme-Brule']\n"
          ]
        }
      ]
    },
    {
      "cell_type": "code",
      "source": [
        "#Two separate lists\n",
        "my_foods = ['Pizza', 'Sushi', 'Creme-Brule']\n",
        "friends_foods = my_foods[:]\n",
        "\n",
        "my_foods.append('carrot cake')\n",
        "friends_foods.append('ice cream')\n",
        "\n",
        "print(\"My favorite foods are:\")\n",
        "print(my_foods)\n",
        "\n",
        "print(\"\\nMy friend's favorite foods are:\")\n",
        "print(friends_foods)"
      ],
      "metadata": {
        "colab": {
          "base_uri": "https://localhost:8080/"
        },
        "id": "p8_d6iccryHH",
        "outputId": "cdac9c85-a23c-4bad-e451-4c93d16afe60"
      },
      "execution_count": null,
      "outputs": [
        {
          "output_type": "stream",
          "name": "stdout",
          "text": [
            "My favorite foods are:\n",
            "['Pizza', 'Sushi', 'Creme-Brule', 'carrot cake']\n",
            "\n",
            "My friend's favorite foods are:\n",
            "['Pizza', 'Sushi', 'Creme-Brule', 'ice cream']\n"
          ]
        }
      ]
    },
    {
      "cell_type": "code",
      "source": [
        "# Using Tuples\n",
        "dimensions = (200, 50)\n",
        "print(dimensions[0])\n",
        "print(dimensions[1])"
      ],
      "metadata": {
        "colab": {
          "base_uri": "https://localhost:8080/"
        },
        "id": "aLmb5KtZr0mp",
        "outputId": "06de9c09-4887-4d5b-ade9-6b81a7b56fc2"
      },
      "execution_count": null,
      "outputs": [
        {
          "output_type": "stream",
          "name": "stdout",
          "text": [
            "200\n",
            "50\n"
          ]
        }
      ]
    },
    {
      "cell_type": "code",
      "source": [
        "#Writing over a Tuple\n",
        "dimensions = (200, 50)\n",
        "print(\"Original dimensions:\")\n",
        "for dimension in dimensions:\n",
        "    print(dimension)\n",
        "dimensions = (400, 100)\n",
        "print(\"\\nModified dimensions:\")\n",
        "for dimension in dimensions:\n",
        "    print(dimension)"
      ],
      "metadata": {
        "colab": {
          "base_uri": "https://localhost:8080/"
        },
        "id": "w5--tLaCr2m2",
        "outputId": "785d6e9f-8d35-44a6-f5bb-a499bcd57cd6"
      },
      "execution_count": null,
      "outputs": [
        {
          "output_type": "stream",
          "name": "stdout",
          "text": [
            "Original dimensions:\n",
            "200\n",
            "50\n",
            "\n",
            "Modified dimensions:\n",
            "400\n",
            "100\n"
          ]
        }
      ]
    },
    {
      "cell_type": "code",
      "source": [
        "# STORE A MESSAGE IN A VARIABLE\n",
        "greeting = \"Greeting: Buongiorno!\"\n",
        "print(greeting)"
      ],
      "metadata": {
        "colab": {
          "base_uri": "https://localhost:8080/"
        },
        "id": "gY87Qu_fr6vR",
        "outputId": "30a5ba90-f44b-41a5-b79c-5bde8fc0d36c"
      },
      "execution_count": null,
      "outputs": [
        {
          "output_type": "stream",
          "name": "stdout",
          "text": [
            "Greeting: Buongiorno!\n"
          ]
        }
      ]
    },
    {
      "cell_type": "code",
      "source": [
        "# STORE A PERSON'S NAME IN A VARIABLE\n",
        "name = \"HASHEM\"\n",
        "print(name.upper())\n",
        "\n",
        "name = \"HASHEM\"\n",
        "print(name.lower())\n",
        "\n",
        "name = \"Hashem\"\n",
        "print(name.title())"
      ],
      "metadata": {
        "colab": {
          "base_uri": "https://localhost:8080/"
        },
        "id": "aFkvt2NCr7Z_",
        "outputId": "847e4934-a0fe-4452-9e31-707b29d47cd6"
      },
      "execution_count": null,
      "outputs": [
        {
          "output_type": "stream",
          "name": "stdout",
          "text": [
            "HASHEM\n",
            "hashem\n",
            "Hashem\n"
          ]
        }
      ]
    },
    {
      "cell_type": "code",
      "source": [
        "#WRITING PRACTICE\n",
        "book_quotes = \"\\nEntre más les enseño a quienes desean aprender, más aprendo yo mismo.\\n \\nUno nunca sabe cuál es el precio perfecto hasta que alguien más se interesa en el negocio.\\n \\nEl ingreso ganado es sobre el que más impuesto se paga; el pasivo es sobre el que menos se paga.\\n \\nEn el cambiante mundo de hoy ya no cuenta tanto lo que sabes porque el conocimiento se vuelve obsoleto demasiado pronto, lo que importa es la velocidad con la que aprendes.\\n \\nSi las razones no son lo suficientemente fuertes, la realidad que te presente el camino podría superar tus anhelos.\\n \\nNuestros hábitos de consumo reflejan quienes somos en realidad.\\n \\nLa crítica puede cegarnos, en tanto que el análisis abriría nuestros ojos.\\n \\nEnlistar los 'No quiero' y 'Los Quiero' para volverme ric@, es decir, las razones emocionales profundas.\\n \\nEl análisis le permite a los ganadores confirmar que los críticos están ciegos y detectar oportunidades que los demás soslayan.\\n \\nLa clave del éxito radica en encontrar lo que las otras personas dejan pasar.\\n \\nLa mayoría de la gente sólo ve los números y pasa por alto lo que comunican.\\n \\nPagate entre el 15% y el 20%.\\n \\nSi no se tiene la fortaleza mental, el dinero siempre fluirá hacia los caminos que pongan menos resistencia.\\n \\nRecomendación de incrementar el dinero entre el 5% & 10%\\n \\nEnseña y recibirás el poder de dar.\\n \\nSi una persona tenía dinero, ya estaba proveyendo algo que necesitaban otros.\\n \\nEl mundo es un reflejo de lo que haces.\\n \\nLo que está en tu mente determina lo que está en tus manos.\\n \\nPara que haya beneficios en un negocio, debe haber dos elementos: una oferta y cambio.\\n \\nLas ganancias se hacen al comprar, no al vender.\\n \\nCompra el pastel y luego córtalo en rebanadas.\\n \\nUn empleo es en realidad una solución a corto plazo para un problema permanente.\\n \\nSi tienes poco dinero y quieres volverte rico, primero tienes que enfocarte, es decir, dejar de ser equilibrado.\\n \\nLa gente equilibrada sólo permanece en un solo lugar.\\n \\nPara avanzar primero tienes que desbalancearte un poco, dejarte ir.\\n \\nColoca muchos huevos en pocas canastas y enfócate.\\n \\nF-O-C-U-S es igual a:\\n\\n'Follow One Course Until Successful'.\\n \\nSi odias perder, entonces juega a la segura. Si perder te debilita, no te arriesgues, solo invierte de manera equilibrada.\\n \\nSiempre haz ofertas, alguien más podría decir que sí.\\n \\nLos perdedores siempre evitan perder, pero el fracaso es lo que templa el espíritu de los ganadores.\\n \\nTodos tenemos un 'Chicken Little' interno. Es el único pollito en el que todos nos convertimos cuando el miedo y la duda empañan nuestros pensamientos.\\n \\nLa escuela nos ha condicionado a evitar los errores. De hecho, castiga a los estudiantes que los cometen.\\n \\nEl miedo y la duda desenfrenada producen cínicos.\\n \\nLos cínicos critican y los ganadores analizan.\\n \\nThink big, start small, move fast.\\n\"\n",
        "print(book_quotes)"
      ],
      "metadata": {
        "colab": {
          "base_uri": "https://localhost:8080/"
        },
        "id": "7Mdf3xGcr9ri",
        "outputId": "08a3b8cc-d974-4d37-d42e-2ea306ca9f65"
      },
      "execution_count": null,
      "outputs": [
        {
          "output_type": "stream",
          "name": "stdout",
          "text": [
            "\n",
            "Entre más les enseño a quienes desean aprender, más aprendo yo mismo.\n",
            " \n",
            "Uno nunca sabe cuál es el precio perfecto hasta que alguien más se interesa en el negocio.\n",
            " \n",
            "El ingreso ganado es sobre el que más impuesto se paga; el pasivo es sobre el que menos se paga.\n",
            " \n",
            "En el cambiante mundo de hoy ya no cuenta tanto lo que sabes porque el conocimiento se vuelve obsoleto demasiado pronto, lo que importa es la velocidad con la que aprendes.\n",
            " \n",
            "Si las razones no son lo suficientemente fuertes, la realidad que te presente el camino podría superar tus anhelos.\n",
            " \n",
            "Nuestros hábitos de consumo reflejan quienes somos en realidad.\n",
            " \n",
            "La crítica puede cegarnos, en tanto que el análisis abriría nuestros ojos.\n",
            " \n",
            "Enlistar los 'No quiero' y 'Los Quiero' para volverme ric@, es decir, las razones emocionales profundas.\n",
            " \n",
            "El análisis le permite a los ganadores confirmar que los críticos están ciegos y detectar oportunidades que los demás soslayan.\n",
            " \n",
            "La clave del éxito radica en encontrar lo que las otras personas dejan pasar.\n",
            " \n",
            "La mayoría de la gente sólo ve los números y pasa por alto lo que comunican.\n",
            " \n",
            "Pagate entre el 15% y el 20%.\n",
            " \n",
            "Si no se tiene la fortaleza mental, el dinero siempre fluirá hacia los caminos que pongan menos resistencia.\n",
            " \n",
            "Recomendación de incrementar el dinero entre el 5% & 10%\n",
            " \n",
            "Enseña y recibirás el poder de dar.\n",
            " \n",
            "Si una persona tenía dinero, ya estaba proveyendo algo que necesitaban otros.\n",
            " \n",
            "El mundo es un reflejo de lo que haces.\n",
            " \n",
            "Lo que está en tu mente determina lo que está en tus manos.\n",
            " \n",
            "Para que haya beneficios en un negocio, debe haber dos elementos: una oferta y cambio.\n",
            " \n",
            "Las ganancias se hacen al comprar, no al vender.\n",
            " \n",
            "Compra el pastel y luego córtalo en rebanadas.\n",
            " \n",
            "Un empleo es en realidad una solución a corto plazo para un problema permanente.\n",
            " \n",
            "Si tienes poco dinero y quieres volverte rico, primero tienes que enfocarte, es decir, dejar de ser equilibrado.\n",
            " \n",
            "La gente equilibrada sólo permanece en un solo lugar.\n",
            " \n",
            "Para avanzar primero tienes que desbalancearte un poco, dejarte ir.\n",
            " \n",
            "Coloca muchos huevos en pocas canastas y enfócate.\n",
            " \n",
            "F-O-C-U-S es igual a:\n",
            "\n",
            "'Follow One Course Until Successful'.\n",
            " \n",
            "Si odias perder, entonces juega a la segura. Si perder te debilita, no te arriesgues, solo invierte de manera equilibrada.\n",
            " \n",
            "Siempre haz ofertas, alguien más podría decir que sí.\n",
            " \n",
            "Los perdedores siempre evitan perder, pero el fracaso es lo que templa el espíritu de los ganadores.\n",
            " \n",
            "Todos tenemos un 'Chicken Little' interno. Es el único pollito en el que todos nos convertimos cuando el miedo y la duda empañan nuestros pensamientos.\n",
            " \n",
            "La escuela nos ha condicionado a evitar los errores. De hecho, castiga a los estudiantes que los cometen.\n",
            " \n",
            "El miedo y la duda desenfrenada producen cínicos.\n",
            " \n",
            "Los cínicos critican y los ganadores analizan.\n",
            " \n",
            "Think big, start small, move fast.\n",
            "\n"
          ]
        }
      ]
    },
    {
      "cell_type": "code",
      "source": [
        "#Store a person’s name in a variable, and print a message to that person. Your message should be simple, such as, “Hello Eric, would you like to learn some Python today?”\n",
        "message = \"Hello Erin, would you like to learn some Python today?\"\n",
        "print(message)\n",
        "print(message.title())\n",
        "print(message.upper())\n",
        "print(message.lower())"
      ],
      "metadata": {
        "colab": {
          "base_uri": "https://localhost:8080/"
        },
        "id": "1vR8mnCqsDcJ",
        "outputId": "adc41e5e-e88f-421d-a85a-979f49df2f93"
      },
      "execution_count": null,
      "outputs": [
        {
          "output_type": "stream",
          "name": "stdout",
          "text": [
            "Hello Erin, would you like to learn some Python today?\n",
            "Hello Erin, Would You Like To Learn Some Python Today?\n",
            "HELLO ERIN, WOULD YOU LIKE TO LEARN SOME PYTHON TODAY?\n",
            "hello erin, would you like to learn some python today?\n"
          ]
        }
      ]
    },
    {
      "cell_type": "code",
      "source": [
        "#Write addition, subtraction, multiplication, and division operations that each result in the number 8. Your output should simply be four lines with the number 8 appearing once on each line.\n",
        "print(4 + 4)\n",
        "print(5 + 3)\n",
        "print(10 - 2)\n",
        "print(8 * 1)\n",
        "\n",
        "number = \" 7 \"\n",
        "message = \"This is my favorite number:\" + number + \"\\nTadaaaaaa!\\n\"\n",
        "print(message)\n",
        "\n",
        "score_1 = \"\\n72\\n\"\n",
        "score_2 = \"\\n135\\n\"\n",
        "message = \"Total game score:\" + score_1 + \"\\nPrevious Score:\" + score_2\n",
        "print(message)"
      ],
      "metadata": {
        "colab": {
          "base_uri": "https://localhost:8080/"
        },
        "id": "Sgw9pv2MsFIy",
        "outputId": "27f83118-f133-4c3f-c73d-712f0736a946"
      },
      "execution_count": null,
      "outputs": [
        {
          "output_type": "stream",
          "name": "stdout",
          "text": [
            "8\n",
            "8\n",
            "8\n",
            "8\n",
            "This is my favorite number: 7 \n",
            "Tadaaaaaa!\n",
            "\n",
            "Total game score:\n",
            "72\n",
            "\n",
            "Previous Score:\n",
            "135\n",
            "\n"
          ]
        }
      ]
    },
    {
      "cell_type": "code",
      "source": [
        "#Store the names of a few of your friends in a list called names. Print each person’s name by accessing each element in the list, one at a time.\n",
        "\n",
        "friends = ['Sofia', 'Denisse', 'Lizeth']\n",
        "print(friends)\n",
        "\n",
        "friends = ['Sofia', 'Denisse', 'Lizeth']\n",
        "message_1 = \".\" + \"\\nShe's my friend number 1\"\n",
        "message_2 = \".\" + \"\\nShe's my friend number 2\"\n",
        "message_3 = \".\" + \"\\nShe's my friend number 3\\n\"\n",
        "print(friends[0] + message_1)\n",
        "print(friends[1] + message_2)\n",
        "print(friends[2] + message_3)"
      ],
      "metadata": {
        "colab": {
          "base_uri": "https://localhost:8080/"
        },
        "id": "KHI9XedAsHy7",
        "outputId": "0c178445-8301-49de-a33c-7b1a930aa9d2"
      },
      "execution_count": null,
      "outputs": [
        {
          "output_type": "stream",
          "name": "stdout",
          "text": [
            "['Sofia', 'Denisse', 'Lizeth']\n",
            "Sofia.\n",
            "She's my friend number 1\n",
            "Denisse.\n",
            "She's my friend number 2\n",
            "Lizeth.\n",
            "She's my friend number 3\n",
            "\n"
          ]
        }
      ]
    },
    {
      "cell_type": "code",
      "source": [
        "#If you could invite anyone, living or deceased, to dinner, who would you invite? Make a list that includes at least three people you’d like to invite to dinner. Then use your list to print a message to each person, inviting them to dinner.\n",
        "\n",
        "Guest_list = []\n",
        "message = \". The honor of your presence is requested.\"\n",
        "\n",
        "Guest_list.append('H.P. Lovecraft' + message)\n",
        "Guest_list.append('Edgar Allan Poe' + message)\n",
        "Guest_list.append('Badia' + message)\n",
        "Guest_list.append('Nikola Tesla' + message)\n",
        "\n",
        "print(Guest_list)\n",
        "\n",
        "Guest_list = ['\\nH.P. Lovecraft', 'Edgar Allan Poe', 'Badia', 'Nikola Tesla']\n",
        "message = ('\\033[3m' + \". The honor of your presence is requested.\\n\" +\n",
        "           '\\033[0m')\n",
        "\n",
        "print('\\033[1m' + Guest_list[0] + '\\033[0m' + message)\n",
        "print(Guest_list[1] + message)\n",
        "print(Guest_list[2] + message)\n",
        "print(Guest_list[3] + message)"
      ],
      "metadata": {
        "colab": {
          "base_uri": "https://localhost:8080/"
        },
        "id": "dXniwAzmsJ5w",
        "outputId": "aac865b3-5aea-4e59-9cfb-ee404c639c46"
      },
      "execution_count": null,
      "outputs": [
        {
          "output_type": "stream",
          "name": "stdout",
          "text": [
            "['H.P. Lovecraft. The honor of your presence is requested.', 'Edgar Allan Poe. The honor of your presence is requested.', 'Badia. The honor of your presence is requested.', 'Nikola Tesla. The honor of your presence is requested.']\n",
            "\u001b[1m\n",
            "H.P. Lovecraft\u001b[0m\u001b[3m. The honor of your presence is requested.\n",
            "\u001b[0m\n",
            "Edgar Allan Poe\u001b[3m. The honor of your presence is requested.\n",
            "\u001b[0m\n",
            "Badia\u001b[3m. The honor of your presence is requested.\n",
            "\u001b[0m\n",
            "Nikola Tesla\u001b[3m. The honor of your presence is requested.\n",
            "\u001b[0m\n"
          ]
        }
      ]
    },
    {
      "cell_type": "code",
      "source": [
        "#Start with your program from Exercise 3-4. Add a print statement at the end of your program stating the name of the guest who can’t make it. Modify your list, replacing the name of the guest who can’t make it with the name of the new person you are inviting. Print a second set of invitation messages, one for each person who is still in your list.\n",
        "\n",
        "Guest_list = ['H.P. Lovecraft', '\\nEdgar Allan Poe', 'Badia', 'Nikola Tesla']\n",
        "message = ('\\033[3m' + \". The honor of your presence is requested.\\n\" +\n",
        "           '\\033[0m')\n",
        "\n",
        "del Guest_list[0]\n",
        "print('\\033[1m' + Guest_list[0] + '\\033[0m' + message)\n",
        "print(Guest_list[1] + message)\n",
        "print(Guest_list[2] + message)"
      ],
      "metadata": {
        "colab": {
          "base_uri": "https://localhost:8080/"
        },
        "id": "0yt80VGysMrf",
        "outputId": "8d8ddb29-319f-4d3c-c05c-ac99494a7dca"
      },
      "execution_count": null,
      "outputs": [
        {
          "output_type": "stream",
          "name": "stdout",
          "text": [
            "\u001b[1m\n",
            "Edgar Allan Poe\u001b[0m\u001b[3m. The honor of your presence is requested.\n",
            "\u001b[0m\n",
            "Badia\u001b[3m. The honor of your presence is requested.\n",
            "\u001b[0m\n",
            "Nikola Tesla\u001b[3m. The honor of your presence is requested.\n",
            "\u001b[0m\n"
          ]
        }
      ]
    },
    {
      "cell_type": "code",
      "source": [
        "#You just found a bigger dinner table, so now more space is available. Think of three more guests to invite to dinner. Add a print statement to the end of your program informing people that you found a bigger dinner table.\n",
        "\n",
        "print(\n",
        "  '\\033[3m' +\n",
        "  \"\\nDear all, it seems we have encountered the possibility to grow our guest list, therefore, please excuse any inconvenience it may bring upon the dinner. Here's the updated guest list:\\n\"\n",
        "  + '\\033[0m')\n",
        "Guest_list = ['H.P. Lovecraft', 'Edgar Allan Poe', 'Badia', 'Nikola Tesla']\n",
        "del Guest_list[0]\n",
        "Guest_list.insert(0, 'Ada Lovelace')\n",
        "Guest_list.insert(2, 'Aldous Huxley')\n",
        "Guest_list.insert(5, 'Simone de Beauvoir')\n",
        "print(Guest_list)\n",
        "\n",
        "Guest_list = [\n",
        "  '\\nAda Lovelace', 'Edgar Allan Poe', 'Aldous Huxley', 'Badia',\n",
        "  'Nikola Tesla', 'Simone de Beauvoir'\n",
        "]\n",
        "message = ('\\033[3m' + \". The honor of your presence is requested.\\n\" +\n",
        "           '\\033[0m')\n",
        "\n",
        "print('\\033[1m' + Guest_list[0] + '\\033[0m' + message)\n",
        "print('\\033[1m' + Guest_list[1] + '\\033[0m' + message)\n",
        "print('\\033[1m' + Guest_list[2] + '\\033[0m' + message)\n",
        "print('\\033[1m' + Guest_list[3] + '\\033[0m' + message)\n",
        "print('\\033[1m' + Guest_list[4] + '\\033[0m' + message)\n",
        "print('\\033[1m' + Guest_list[5] + '\\033[0m' + message)\n",
        "\n",
        "print(\n",
        "  '\\033[3m' +\n",
        "  \"\\nDear all, it seems we have encountered ouserlves in a diligence regarding out dinner table; with that being said, please excuse any inconvenience it may bring upon the dinner. Here's our reduced guest list:\\n\"\n",
        "  + '\\033[0m')"
      ],
      "metadata": {
        "colab": {
          "base_uri": "https://localhost:8080/"
        },
        "id": "ihoMoH9HsTTR",
        "outputId": "5b03b8fe-c31c-4669-a6cd-951ad0c84e73"
      },
      "execution_count": null,
      "outputs": [
        {
          "output_type": "stream",
          "name": "stdout",
          "text": [
            "\u001b[3m\n",
            "Dear all, it seems we have encountered the possibility to grow our guest list, therefore, please excuse any inconvenience it may bring upon the dinner. Here's the updated guest list:\n",
            "\u001b[0m\n",
            "['Ada Lovelace', 'Edgar Allan Poe', 'Aldous Huxley', 'Badia', 'Nikola Tesla', 'Simone de Beauvoir']\n",
            "\u001b[1m\n",
            "Ada Lovelace\u001b[0m\u001b[3m. The honor of your presence is requested.\n",
            "\u001b[0m\n",
            "\u001b[1mEdgar Allan Poe\u001b[0m\u001b[3m. The honor of your presence is requested.\n",
            "\u001b[0m\n",
            "\u001b[1mAldous Huxley\u001b[0m\u001b[3m. The honor of your presence is requested.\n",
            "\u001b[0m\n",
            "\u001b[1mBadia\u001b[0m\u001b[3m. The honor of your presence is requested.\n",
            "\u001b[0m\n",
            "\u001b[1mNikola Tesla\u001b[0m\u001b[3m. The honor of your presence is requested.\n",
            "\u001b[0m\n",
            "\u001b[1mSimone de Beauvoir\u001b[0m\u001b[3m. The honor of your presence is requested.\n",
            "\u001b[0m\n",
            "\u001b[3m\n",
            "Dear all, it seems we have encountered ouserlves in a diligence regarding out dinner table; with that being said, please excuse any inconvenience it may bring upon the dinner. Here's our reduced guest list:\n",
            "\u001b[0m\n"
          ]
        }
      ]
    },
    {
      "cell_type": "code",
      "source": [
        "#Example 1\n",
        "Guest_list = [\n",
        "  'Ada Lovelace', 'Edgar Allan Poe', 'Aldous Huxley', 'Badia', 'Nikola Tesla',\n",
        "  'Simone de Beauvoir'\n",
        "]\n",
        "del Guest_list[0:4]\n",
        "print(Guest_list)"
      ],
      "metadata": {
        "colab": {
          "base_uri": "https://localhost:8080/"
        },
        "id": "Zcslvb7fsUVw",
        "outputId": "60489d98-9ce1-46da-a3c9-6894dc5c8fad"
      },
      "execution_count": null,
      "outputs": [
        {
          "output_type": "stream",
          "name": "stdout",
          "text": [
            "['Nikola Tesla', 'Simone de Beauvoir']\n"
          ]
        }
      ]
    },
    {
      "cell_type": "code",
      "source": [
        "#Example 2\n",
        "Guest_list = [\n",
        "  '\\nAda Lovelace', 'Edgar Allan Poe', 'Aldous Huxley', 'Badia',\n",
        "  'Nikola Tesla', 'Simone de Beauvoir'\n",
        "]\n",
        "\n",
        "guest_removed_1 = Guest_list.pop(0)\n",
        "guest_removed_2 = Guest_list.pop(0)\n",
        "guest_removed_3 = Guest_list.pop(0)\n",
        "guest_removed_4 = Guest_list.pop(0)\n",
        "\n",
        "print(guest_removed_1 + \".\" +\n",
        "      ' We are extremely sorry about your uninvitation. Good luck next time!')\n",
        "print(guest_removed_2 + \".\" +\n",
        "      ' We are extremely sorry about your uninvitation. Good luck next time!')\n",
        "print(guest_removed_3 + \".\" +\n",
        "      ' We are extremely sorry about your uninvitation. Good luck next time!')\n",
        "print(\n",
        "  guest_removed_4 + \".\" +\n",
        "  ' We are extremely sorry about your uninvitation. Good luck next time!\\n')\n",
        "\n",
        "Guest_accepted_1 = Guest_list[0]\n",
        "Guest_accepted_2 = Guest_list[1]\n",
        "print(Guest_accepted_1 + \".\" + \" Congratulations! You are still invited.\")\n",
        "print(Guest_accepted_2 + \".\" + \" Congratulations! You are still invited.\")\n",
        "\n",
        "print(\"\\nUpdated guest list:\")\n",
        "del Guest_list[0]\n",
        "del Guest_list[0]\n",
        "print(Guest_list)\n"
      ],
      "metadata": {
        "colab": {
          "base_uri": "https://localhost:8080/"
        },
        "id": "4CYWC6SDsWi4",
        "outputId": "f3d76d33-9a67-4fa1-c1ef-431e4d3edb03"
      },
      "execution_count": null,
      "outputs": [
        {
          "output_type": "stream",
          "name": "stdout",
          "text": [
            "\n",
            "Ada Lovelace. We are extremely sorry about your uninvitation. Good luck next time!\n",
            "Edgar Allan Poe. We are extremely sorry about your uninvitation. Good luck next time!\n",
            "Aldous Huxley. We are extremely sorry about your uninvitation. Good luck next time!\n",
            "Badia. We are extremely sorry about your uninvitation. Good luck next time!\n",
            "\n",
            "Nikola Tesla. Congratulations! You are still invited.\n",
            "Simone de Beauvoir. Congratulations! You are still invited.\n",
            "\n",
            "Updated guest list:\n",
            "[]\n"
          ]
        }
      ]
    },
    {
      "cell_type": "code",
      "source": [
        "# Think of at least five places in the world you’d like to visit. Store the locations in a list. Make sure the list is not in alphabetical order. Print your list in its original order. Don’t worry about printing the list neatly, just print it as a raw Python list. Use sorted() to print your list in alphabetical order without modifying the actual list. Show that your list is still in its original order by printing it. Use sorted() to print your list in reverse alphabetical order without changing the order of the original list. Show that your list is still in its original order by printing it again. Use reverse() to change the order of your list. Print the list to show that its order has changed. Use reverse() to change the order of your list again. Print the list to show it’s back to its original order. Use sort() to change your list so it’s stored in alphabetical order. Print the list to show that its order has been changed. Use sort() to change your list so it’s stored in reverse alphabetical order. Print the list to show that its order has changed.\n",
        "\n",
        "places_to_visit = ['Portugal', 'Spain', 'Japan', 'Morocco', 'Amsterdam']\n",
        "print(places_to_visit)\n",
        "\n",
        "places_to_visit = ['Portugal', 'Spain', 'Japan', 'Morocco', 'Amsterdam']\n",
        "print(sorted(places_to_visit))\n",
        "\n",
        "places_to_visit = [\n",
        "  'Portugal', 'Spain', 'Japan', 'Morocco', 'Amsterdam', 'Ibiza'\n",
        "]\n",
        "places_to_visit.reverse()\n",
        "print(places_to_visit)\n",
        "\n",
        "Guest_list = ['\\nH.P. Lovecraft', 'Edgar Allan Poe', 'Badia', 'Nikola Tesla']\n",
        "print(len(Guest_list))"
      ],
      "metadata": {
        "colab": {
          "base_uri": "https://localhost:8080/"
        },
        "id": "cUJC8qISsZgP",
        "outputId": "39b93682-77ab-4a4c-b65b-7b285ecf7a17"
      },
      "execution_count": null,
      "outputs": [
        {
          "output_type": "stream",
          "name": "stdout",
          "text": [
            "['Portugal', 'Spain', 'Japan', 'Morocco', 'Amsterdam']\n",
            "['Amsterdam', 'Japan', 'Morocco', 'Portugal', 'Spain']\n",
            "['Ibiza', 'Amsterdam', 'Morocco', 'Japan', 'Spain', 'Portugal']\n",
            "4\n"
          ]
        }
      ]
    },
    {
      "cell_type": "code",
      "source": [
        "#Think of at least three kinds of your favorite pizza. Store these pizza names in a list, and then use a for loop to print the name of each pizza.\n",
        "print(\"This is my favorite type of pizza:\")\n",
        "favorite_pizza = ['Napolitana', 'Romana', 'Siciliana', 'New York style']\n",
        "for pizza in favorite_pizza:\n",
        "  print(\"I like \" + pizza + \" pizza\")"
      ],
      "metadata": {
        "colab": {
          "base_uri": "https://localhost:8080/"
        },
        "id": "hKHXCsXWscCk",
        "outputId": "d84a71c2-89e3-43fe-c739-be862a15b073"
      },
      "execution_count": null,
      "outputs": [
        {
          "output_type": "stream",
          "name": "stdout",
          "text": [
            "This is my favorite type of pizza:\n",
            "I like Napolitana pizza\n",
            "I like Romana pizza\n",
            "I like Siciliana pizza\n",
            "I like New York style pizza\n"
          ]
        }
      ]
    },
    {
      "cell_type": "code",
      "source": [
        "#Use a for loop to print the numbers from 1 to 20, inclusive.\n",
        "for value in range(1, 21):\n",
        "  print(value)"
      ],
      "metadata": {
        "colab": {
          "base_uri": "https://localhost:8080/"
        },
        "id": "1tNEj4CDsd-k",
        "outputId": "81e11eb5-e1a9-48c6-ce8c-4c96817e9547"
      },
      "execution_count": null,
      "outputs": [
        {
          "output_type": "stream",
          "name": "stdout",
          "text": [
            "1\n",
            "2\n",
            "3\n",
            "4\n",
            "5\n",
            "6\n",
            "7\n",
            "8\n",
            "9\n",
            "10\n",
            "11\n",
            "12\n",
            "13\n",
            "14\n",
            "15\n",
            "16\n",
            "17\n",
            "18\n",
            "19\n",
            "20\n"
          ]
        }
      ]
    },
    {
      "cell_type": "code",
      "source": [
        "#Use the third argument of the range() function to make a list of the odd numbers from 1 to 20. Use a for loop to print each number.\n",
        "odd_numbers = list(range(1, 22, 2))\n",
        "for number in odd_numbers:\n",
        "  print(number)"
      ],
      "metadata": {
        "colab": {
          "base_uri": "https://localhost:8080/"
        },
        "id": "p_CKnZTdsf0U",
        "outputId": "cfca5b8d-1f26-485b-b4f4-5032482db300"
      },
      "execution_count": null,
      "outputs": [
        {
          "output_type": "stream",
          "name": "stdout",
          "text": [
            "1\n",
            "3\n",
            "5\n",
            "7\n",
            "9\n",
            "11\n",
            "13\n",
            "15\n",
            "17\n",
            "19\n",
            "21\n"
          ]
        }
      ]
    },
    {
      "cell_type": "code",
      "source": [
        "#Make a list of the multiples of 3 from 3 to 30. Use a for loop to print the numbers in your list.\n",
        "multiple_numbers = list(range(3, 33, 3))\n",
        "for number in multiple_numbers:\n",
        "  print(number)"
      ],
      "metadata": {
        "colab": {
          "base_uri": "https://localhost:8080/"
        },
        "id": "uNJ3LO-sshVS",
        "outputId": "3a11a2a4-acc6-4ae0-e5ee-4d5e0f995a74"
      },
      "execution_count": null,
      "outputs": [
        {
          "output_type": "stream",
          "name": "stdout",
          "text": [
            "3\n",
            "6\n",
            "9\n",
            "12\n",
            "15\n",
            "18\n",
            "21\n",
            "24\n",
            "27\n",
            "30\n"
          ]
        }
      ]
    },
    {
      "cell_type": "code",
      "source": [
        "#Make a list of the first 10 cubes (that is, the cube of each integer from 1 through 10), and use a for loop to print out the value of each cube.\n",
        "cubes = []\n",
        "for value in range(1, 11):\n",
        "  cube = value**3\n",
        "  cubes.append(cube)\n",
        "\n",
        "print(cubes)\n",
        "\n",
        "for value in cubes:\n",
        "  print(value)\n"
      ],
      "metadata": {
        "colab": {
          "base_uri": "https://localhost:8080/"
        },
        "id": "_szBObhvskfO",
        "outputId": "a273d054-35a5-40ad-9a62-dab19ec86786"
      },
      "execution_count": null,
      "outputs": [
        {
          "output_type": "stream",
          "name": "stdout",
          "text": [
            "[1, 8, 27, 64, 125, 216, 343, 512, 729, 1000]\n",
            "1\n",
            "8\n",
            "27\n",
            "64\n",
            "125\n",
            "216\n",
            "343\n",
            "512\n",
            "729\n",
            "1000\n"
          ]
        }
      ]
    },
    {
      "cell_type": "code",
      "source": [
        "#Use a list comprehension to generate a list of the first 10 cubes.\n",
        "cubes = [value**3 for value in range(1, 11)]\n",
        "print(cubes)"
      ],
      "metadata": {
        "colab": {
          "base_uri": "https://localhost:8080/"
        },
        "id": "TuHfVjnFsmtE",
        "outputId": "55a49f54-8c05-4fea-e70e-7bfe0ab0e844"
      },
      "execution_count": null,
      "outputs": [
        {
          "output_type": "stream",
          "name": "stdout",
          "text": [
            "[1, 8, 27, 64, 125, 216, 343, 512, 729, 1000]\n"
          ]
        }
      ]
    },
    {
      "cell_type": "code",
      "source": [
        "#Using one of the programs you wrote in this chapter, add several lines to the end of the program that do the following: \n",
        "\n",
        "#Print the message, The first three items in the list are:. Then use a slice to print the first three items from that program’s list.\n",
        "places_to_visit = ['Portugal', 'Spain', 'Japan', 'Morocco', 'Amsterdam']\n",
        "print(places_to_visit)\n",
        "\n",
        "print(\"\\nThe first three items in the list are:\")\n",
        "places_to_visit = ['Portugal', 'Spain', 'Japan', 'Morocco', 'Amsterdam']\n",
        "print(places_to_visit[0:3])\n"
      ],
      "metadata": {
        "colab": {
          "base_uri": "https://localhost:8080/"
        },
        "id": "kKwel4Dxsojr",
        "outputId": "e0439237-d08a-465e-a159-d18ced96c7b3"
      },
      "execution_count": null,
      "outputs": [
        {
          "output_type": "stream",
          "name": "stdout",
          "text": [
            "['Portugal', 'Spain', 'Japan', 'Morocco', 'Amsterdam']\n",
            "\n",
            "The first three items in the list are:\n",
            "['Portugal', 'Spain', 'Japan']\n"
          ]
        }
      ]
    },
    {
      "cell_type": "code",
      "source": [
        "#Print the message, Three items from the middle of the list are:. Use a slice to print three items from the middle of the list. \n",
        "print(\"\\nThree items from the middle of the list are:\")\n",
        "places_to_visit = ['Portugal', 'Spain', 'Japan', 'Morocco', 'Amsterdam']\n",
        "print(places_to_visit[1:4])"
      ],
      "metadata": {
        "colab": {
          "base_uri": "https://localhost:8080/"
        },
        "id": "pbtqy0lXstor",
        "outputId": "958737d9-b04b-4679-8007-7f58637323ba"
      },
      "execution_count": null,
      "outputs": [
        {
          "output_type": "stream",
          "name": "stdout",
          "text": [
            "\n",
            "Three items from the middle of the list are:\n",
            "['Spain', 'Japan', 'Morocco']\n"
          ]
        }
      ]
    },
    {
      "cell_type": "code",
      "source": [
        "#Print the message, The last three items in the list are:. Use a slice to print the last three items in the list.\n",
        "print(\"\\nThe last three items in the list are:\")\n",
        "places_to_visit = ['Portugal', 'Spain', 'Japan', 'Morocco', 'Amsterdam']\n",
        "print(places_to_visit[2:])"
      ],
      "metadata": {
        "colab": {
          "base_uri": "https://localhost:8080/"
        },
        "id": "A3FrQdShsuic",
        "outputId": "8ca57f8f-bb2a-4f7f-eb4f-f15e0d3c38b6"
      },
      "execution_count": null,
      "outputs": [
        {
          "output_type": "stream",
          "name": "stdout",
          "text": [
            "\n",
            "The last three items in the list are:\n",
            "['Japan', 'Morocco', 'Amsterdam']\n"
          ]
        }
      ]
    },
    {
      "cell_type": "code",
      "source": [
        "#Start with your program from Exercise 4-1 (page 60). Make a copy of the list of pizzas, and call it friend_pizzas. Then, do the following: Add a new pizza to the original list.\n",
        "\n",
        "print(\"These are our favorite type of pizza:\")\n",
        "friend_pizzas = ['Napolitana', 'Romana', 'Siciliana', 'New York style']\n",
        "print(friend_pizzas)\n",
        "\n",
        "friend_pizzas.append('Deep dish')\n",
        "print(friend_pizzas)"
      ],
      "metadata": {
        "colab": {
          "base_uri": "https://localhost:8080/"
        },
        "id": "et-mmncKswSl",
        "outputId": "6f449067-5e1d-4356-bbf4-0e00579808f3"
      },
      "execution_count": null,
      "outputs": [
        {
          "output_type": "stream",
          "name": "stdout",
          "text": [
            "These are our favorite type of pizza:\n",
            "['Napolitana', 'Romana', 'Siciliana', 'New York style']\n",
            "['Napolitana', 'Romana', 'Siciliana', 'New York style', 'Deep dish']\n"
          ]
        }
      ]
    },
    {
      "cell_type": "code",
      "source": [
        "#Add a different pizza to the list friend_pizzas.\n",
        "friend_pizzas = ['Napolitana', 'Romana', 'Siciliana', 'New York style']\n",
        "print(friend_pizzas)\n",
        "\n",
        "friend_pizzas.append('Deep dish')\n",
        "print(friend_pizzas)\n",
        "\n",
        "del friend_pizzas[0]\n",
        "friend_pizzas.insert(0, 'Mexicana')\n",
        "print(friend_pizzas)"
      ],
      "metadata": {
        "colab": {
          "base_uri": "https://localhost:8080/"
        },
        "id": "c9z16VzNsyLc",
        "outputId": "a38d4d10-a7e9-4f98-a5a4-25568a615a22"
      },
      "execution_count": null,
      "outputs": [
        {
          "output_type": "stream",
          "name": "stdout",
          "text": [
            "['Napolitana', 'Romana', 'Siciliana', 'New York style']\n",
            "['Napolitana', 'Romana', 'Siciliana', 'New York style', 'Deep dish']\n",
            "['Mexicana', 'Romana', 'Siciliana', 'New York style', 'Deep dish']\n"
          ]
        }
      ]
    },
    {
      "cell_type": "code",
      "source": [
        "#Prove that you have two separate lists. Print the message, My favorite pizzas are:, and then use a for loop to print the first list. Print the message, My friend’s favorite pizzas are:, and then use a for loop to print the second list. Make sure each new pizza is stored in the appropriate list.\n",
        "\n",
        "#My favorite pizzas\n",
        "message = \"\\nMy favorite pizzas are:\"\n",
        "print(message)"
      ],
      "metadata": {
        "colab": {
          "base_uri": "https://localhost:8080/"
        },
        "id": "uYzPRJAkt0f4",
        "outputId": "f730ddb8-1e4e-475f-b4eb-53fca0cd051b"
      },
      "execution_count": null,
      "outputs": [
        {
          "output_type": "stream",
          "name": "stdout",
          "text": [
            "\n",
            "My favorite pizzas are:\n"
          ]
        }
      ]
    },
    {
      "cell_type": "code",
      "source": [
        "# A for loop \n",
        "friend_pizzas = ['Napolitana', 'Romana', 'Siciliana', 'New York style']\n",
        "friend_pizzas.append('Deep dish')\n",
        "for pizza in friend_pizzas:\n",
        "    print(pizza)"
      ],
      "metadata": {
        "colab": {
          "base_uri": "https://localhost:8080/"
        },
        "id": "_iuHimV9t3_q",
        "outputId": "9c43a21e-9cb6-467c-ed92-5660e9f212cd"
      },
      "execution_count": null,
      "outputs": [
        {
          "output_type": "stream",
          "name": "stdout",
          "text": [
            "Napolitana\n",
            "Romana\n",
            "Siciliana\n",
            "New York style\n",
            "Deep dish\n"
          ]
        }
      ]
    },
    {
      "cell_type": "code",
      "source": [
        "#My friends pizzas\n",
        "\n",
        "message = \"\\nMy friends favorite pizzas are:\"\n",
        "print(message)"
      ],
      "metadata": {
        "colab": {
          "base_uri": "https://localhost:8080/"
        },
        "id": "YLRUx9ctt6j_",
        "outputId": "0f56b241-8f78-4589-ddff-184a75382600"
      },
      "execution_count": null,
      "outputs": [
        {
          "output_type": "stream",
          "name": "stdout",
          "text": [
            "\n",
            "My friends favorite pizzas are:\n"
          ]
        }
      ]
    },
    {
      "cell_type": "code",
      "source": [
        "#A for loop\n",
        "my_pizzas = ['Napolitana', 'Romana', 'Siciliana', 'New York style']\n",
        "my_pizzas.append('Mexicana')\n",
        "for pizza in my_pizzas:\n",
        "    print(pizza)"
      ],
      "metadata": {
        "colab": {
          "base_uri": "https://localhost:8080/"
        },
        "id": "ZFv_46kJt9co",
        "outputId": "872a87ad-1c49-4591-d213-6fea8313a10f"
      },
      "execution_count": null,
      "outputs": [
        {
          "output_type": "stream",
          "name": "stdout",
          "text": [
            "Napolitana\n",
            "Romana\n",
            "Siciliana\n",
            "New York style\n",
            "Mexicana\n"
          ]
        }
      ]
    },
    {
      "cell_type": "code",
      "source": [
        "#A buffet-style restaurant offers only five basic foods. Think of five simple foods, and store them in a tuple. Use a for loop to print each food the restaurant offers. Try to modify one of the items, and make sure that Python rejects the change. The restaurant changes its menu, replacing two of the items with different foods. Add a block of code that rewrites the tuple, and then use a for loop to print each of the items on the revised menu.\n",
        "\n",
        "#tuple\n",
        "basic_foods = (('lasagna'), ('soup'), ('meat'), ('pasta'), ('salads'))\n",
        "print(basic_foods)\n"
      ],
      "metadata": {
        "colab": {
          "base_uri": "https://localhost:8080/"
        },
        "id": "06JogezduAHA",
        "outputId": "aaa93ca3-0c2d-4ec9-dd80-4baf6f70f953"
      },
      "execution_count": null,
      "outputs": [
        {
          "output_type": "stream",
          "name": "stdout",
          "text": [
            "('lasagna', 'soup', 'meat', 'pasta', 'salads')\n"
          ]
        }
      ]
    },
    {
      "cell_type": "code",
      "source": [
        "#A for loop\n",
        "basic_foods = (('\\nlasagna'), ('soup'), ('meat'), ('pasta'), ('salads'))\n",
        "for food in basic_foods:\n",
        "    print(food)"
      ],
      "metadata": {
        "colab": {
          "base_uri": "https://localhost:8080/"
        },
        "id": "fQMx-MVUuEXW",
        "outputId": "cc162a72-2d57-4a06-df93-82d210a34e9c"
      },
      "execution_count": null,
      "outputs": [
        {
          "output_type": "stream",
          "name": "stdout",
          "text": [
            "\n",
            "lasagna\n",
            "soup\n",
            "meat\n",
            "pasta\n",
            "salads\n"
          ]
        }
      ]
    },
    {
      "cell_type": "code",
      "source": [
        "#modificaction with error\n",
        "#basic_foods = (('lasagna'), ('soup'), ('meat'), ('pasta'), ('salads'))\n",
        "#basic_foods[0] = ('lobster')\n",
        "#print(basic_foods)\n",
        "\n",
        "#Food items changed with A for loop.\n",
        "basic_foods = (('lasagna'), ('soup'), ('meat'), ('pasta'), ('salads'))\n",
        "print(\"\\nOriginal food menu:\")\n",
        "for food in basic_foods:\n",
        "    print(food)\n",
        "\n",
        "basic_foods = (('lobster'), ('vegetables'), ('meat'), ('pasta'), ('salads'))\n",
        "print(\"\\nModified food elements:\")\n",
        "for food_elements in basic_foods:\n",
        "    print(food_elements)"
      ],
      "metadata": {
        "colab": {
          "base_uri": "https://localhost:8080/"
        },
        "id": "b9qdoquxuGol",
        "outputId": "6120c500-7f5d-4285-c2f2-2d5a96ca905b"
      },
      "execution_count": null,
      "outputs": [
        {
          "output_type": "stream",
          "name": "stdout",
          "text": [
            "\n",
            "Original food menu:\n",
            "lasagna\n",
            "soup\n",
            "meat\n",
            "pasta\n",
            "salads\n",
            "\n",
            "Modified food elements:\n",
            "lobster\n",
            "vegetables\n",
            "meat\n",
            "pasta\n",
            "salads\n"
          ]
        }
      ]
    },
    {
      "cell_type": "code",
      "source": [
        "#Choose three of the programs you’ve written in this chapter and modify each one to comply with PEP 8. Use four spaces for each indentation level. Set your text editor to insert four spaces every time you press tab, if you haven’t already done so (see Appendix B for instructions on how to do this).\n",
        "\n",
        "#Pending task on VSCode \n",
        "\n",
        "#If statements\n",
        "cars = ['\\naudi', 'bmw', 'subaru', 'toyota']\n",
        "for car in cars:\n",
        "    if car == 'bmw': \n",
        "        print(car.upper())\n",
        "    else:\n",
        "        print(car.title())"
      ],
      "metadata": {
        "colab": {
          "base_uri": "https://localhost:8080/"
        },
        "id": "SsoDM-MFuL_U",
        "outputId": "1c7e12f0-1360-42e1-b8fd-f790f83c9ba2"
      },
      "execution_count": null,
      "outputs": [
        {
          "output_type": "stream",
          "name": "stdout",
          "text": [
            "\n",
            "Audi\n",
            "BMW\n",
            "Subaru\n",
            "Toyota\n"
          ]
        }
      ]
    },
    {
      "cell_type": "code",
      "source": [
        "#Conditional test true\n",
        "car = 'bmw'\n",
        "if car == 'bmw':\n",
        "   print(\"True\")"
      ],
      "metadata": {
        "colab": {
          "base_uri": "https://localhost:8080/"
        },
        "id": "63xrWLtquRtM",
        "outputId": "8e096171-25ef-4fc0-97fe-6fe7877d17fa"
      },
      "execution_count": null,
      "outputs": [
        {
          "output_type": "stream",
          "name": "stdout",
          "text": [
            "True\n"
          ]
        }
      ]
    },
    {
      "cell_type": "code",
      "source": [
        "#Conditional test false\n",
        "car = 'audi'\n",
        "if car == 'bmw':\n",
        "   print(\"True\")\n",
        "\n",
        "car = 'Audi'\n",
        "if car == 'audi':\n",
        "   print(\"True\")\n",
        "\n",
        "car = 'Audi'\n",
        "if car.lower() == 'audi':\n",
        "   print(\"True\")\n",
        "   print(car)"
      ],
      "metadata": {
        "colab": {
          "base_uri": "https://localhost:8080/"
        },
        "id": "x0v0W-QLuTYv",
        "outputId": "6ae419fd-7cca-452c-c6da-e6f6fb4fb7cb"
      },
      "execution_count": null,
      "outputs": [
        {
          "output_type": "stream",
          "name": "stdout",
          "text": [
            "True\n",
            "Audi\n"
          ]
        }
      ]
    },
    {
      "cell_type": "code",
      "source": [
        "#Inequality\n",
        "requested_topping = 'mushrooms'\n",
        "if requested_topping != 'anchovies':\n",
        "   print (\"Hold the anchovies!\")"
      ],
      "metadata": {
        "colab": {
          "base_uri": "https://localhost:8080/"
        },
        "id": "CgSwjqyzuXR3",
        "outputId": "f47d3b85-9506-4e15-812d-673aa9350501"
      },
      "execution_count": null,
      "outputs": [
        {
          "output_type": "stream",
          "name": "stdout",
          "text": [
            "Hold the anchovies!\n"
          ]
        }
      ]
    },
    {
      "cell_type": "code",
      "source": [
        "#Numerical comparisons : and\n",
        "age = 18\n",
        "if age == 18:\n",
        "   print(\"True\")\n",
        "\n",
        "answer = 17\n",
        "if answer != 42:\n",
        "  print(\"That is not the correct answer. Please try again!\")\n",
        "\n",
        "age = 19\n",
        "if age < 21:\n",
        "  print(\"True\")\n",
        "\n",
        "if age <= 21:\n",
        "  print(\"True\")\n",
        "\n",
        "if age > 21:\n",
        "  print(\"False\")\n",
        "\n",
        "if age >= 21: \n",
        "  print(\"False\")\n"
      ],
      "metadata": {
        "colab": {
          "base_uri": "https://localhost:8080/"
        },
        "id": "z_QY364YuY7i",
        "outputId": "4f3c8be4-a634-424a-dca3-2c1349f39ced"
      },
      "execution_count": null,
      "outputs": [
        {
          "output_type": "stream",
          "name": "stdout",
          "text": [
            "True\n",
            "That is not the correct answer. Please try again!\n",
            "True\n",
            "True\n"
          ]
        }
      ]
    },
    {
      "cell_type": "code",
      "source": [
        "#Check multiple conditions\n",
        "age_0 = 22\n",
        "age_1 = 18\n",
        "if age_0 >= 21 and age_1 >= 21:\n",
        "  print(\"False\")\n",
        "\n",
        "age_1 = 21\n",
        "if age_0 >= 21 and age_1 >= 21: \n",
        "  print(\"True\")"
      ],
      "metadata": {
        "colab": {
          "base_uri": "https://localhost:8080/"
        },
        "id": "c5pwDk7ZubsN",
        "outputId": "b4966b85-ef4a-48ae-d6d7-755796a32cf5"
      },
      "execution_count": null,
      "outputs": [
        {
          "output_type": "stream",
          "name": "stdout",
          "text": [
            "True\n"
          ]
        }
      ]
    },
    {
      "cell_type": "code",
      "source": [
        "# or\n",
        "age_0 = 22\n",
        "age_1 = 18\n",
        "if age_0 >= 21 or age_1 >= 21: \n",
        "  print(\"True\")\n",
        "\n",
        "age_0 = 18\n",
        "if age_0 >= 21 or age_1 >= 21:\n",
        "  print(\"False\")"
      ],
      "metadata": {
        "colab": {
          "base_uri": "https://localhost:8080/"
        },
        "id": "K0cnU5Xzue5d",
        "outputId": "9c2539bc-fb73-4472-f7d9-c69fdfac51a1"
      },
      "execution_count": null,
      "outputs": [
        {
          "output_type": "stream",
          "name": "stdout",
          "text": [
            "True\n"
          ]
        }
      ]
    },
    {
      "cell_type": "code",
      "source": [
        "#Wether a Value Is in a List\n",
        "requested_toppings = ['mushrooms', 'onions', 'pineapple']\n",
        "if 'mushrooms' in requested_toppings:\n",
        "  print(\"True\")\n",
        "\n",
        "if 'pepperoni' in requested_toppings:\n",
        "  print(\"False\")\n"
      ],
      "metadata": {
        "colab": {
          "base_uri": "https://localhost:8080/"
        },
        "id": "06FW1x9_ug30",
        "outputId": "80072f78-8492-4fe1-bf12-4a9ad4abf061"
      },
      "execution_count": null,
      "outputs": [
        {
          "output_type": "stream",
          "name": "stdout",
          "text": [
            "True\n"
          ]
        }
      ]
    },
    {
      "cell_type": "code",
      "source": [
        "#Value is NOT in a list\n",
        "banned_users = ['andrew', 'carolina', 'david']\n",
        "user = 'marie'\n",
        "if user not in banned_users:\n",
        "  print(user.title() + \", you can post a response if you wish.\")\n"
      ],
      "metadata": {
        "colab": {
          "base_uri": "https://localhost:8080/"
        },
        "id": "iGbwntQbuivM",
        "outputId": "f95aba9c-cf8d-43dd-eba8-1aa14252072b"
      },
      "execution_count": null,
      "outputs": [
        {
          "output_type": "stream",
          "name": "stdout",
          "text": [
            "Marie, you can post a response if you wish.\n"
          ]
        }
      ]
    },
    {
      "cell_type": "code",
      "source": [
        "#Booleans\n",
        "True"
      ],
      "metadata": {
        "colab": {
          "base_uri": "https://localhost:8080/"
        },
        "id": "Lsbu8nx9uk38",
        "outputId": "f94acaab-9584-485d-ecab-2e894e31e768"
      },
      "execution_count": null,
      "outputs": [
        {
          "output_type": "execute_result",
          "data": {
            "text/plain": [
              "True"
            ]
          },
          "metadata": {},
          "execution_count": 101
        }
      ]
    },
    {
      "cell_type": "code",
      "source": [
        "#5-1. Conditional Tests: Write a series of conditional tests. Print a statement describing each test and your prediction for the results of each test. Your code should look something like this:\n",
        "\n",
        "car = 'alpha romeo'\n",
        "print(\"Is car == 'alpha romeo'? I predict True.\")\n",
        "print(car == 'alpha romeo')\n",
        "\n",
        "print(\"\\nIs car == 'audi' I predict False.\")\n",
        "print(car == 'audi')"
      ],
      "metadata": {
        "colab": {
          "base_uri": "https://localhost:8080/"
        },
        "id": "v-CaBYcjuy7u",
        "outputId": "0690b211-0333-42bd-badd-6f280a52fa4f"
      },
      "execution_count": null,
      "outputs": [
        {
          "output_type": "stream",
          "name": "stdout",
          "text": [
            "Is car == 'alpha romeo'? I predict True.\n",
            "True\n",
            "\n",
            "Is car == 'audi' I predict False.\n",
            "False\n"
          ]
        }
      ]
    },
    {
      "cell_type": "code",
      "source": [
        "#You don’t have to limit the number of tests you create to 10. If you want to try more comparisons, write more tests and add them to conditional_tests.py. Have at least one True and one False result for each of the following:\n",
        "\n",
        "# Tests for equality and inequality with strings\n",
        "# Tests using the lower() function\n",
        "# Numerical tests involving equality and inequality, greater than and less than, greater than or equal to, and less than or equal to\n",
        "# Tests using the and keyword and the or keyword\n",
        "# Test whether an item is in a list\n",
        "# Test whether an item is not in a list\n",
        "\n",
        "#Equality\n",
        "pen = 'blue'\n",
        "pen == 'blue'\n"
      ],
      "metadata": {
        "colab": {
          "base_uri": "https://localhost:8080/"
        },
        "id": "8idk-Jmzvj9e",
        "outputId": "f05b5cc0-e886-4e12-ecce-c692ff9421c8"
      },
      "execution_count": null,
      "outputs": [
        {
          "output_type": "execute_result",
          "data": {
            "text/plain": [
              "True"
            ]
          },
          "metadata": {},
          "execution_count": 109
        }
      ]
    },
    {
      "cell_type": "code",
      "source": [
        "#Inequality\n",
        "soup = 'minestrone'\n",
        "soup == 'vegetable soup' "
      ],
      "metadata": {
        "colab": {
          "base_uri": "https://localhost:8080/"
        },
        "id": "zQ0mjbKywzSN",
        "outputId": "5429b831-873f-495d-fc26-5cd20a81ef8a"
      },
      "execution_count": null,
      "outputs": [
        {
          "output_type": "execute_result",
          "data": {
            "text/plain": [
              "False"
            ]
          },
          "metadata": {},
          "execution_count": 110
        }
      ]
    },
    {
      "cell_type": "code",
      "source": [
        "#Tests using the lower() function\n",
        "number_x = 'A'\n",
        "number_y = 'b'\n",
        "if number_x == 'A':\n",
        "  print (number_x.lower())\n"
      ],
      "metadata": {
        "id": "Lm5UVaHcw0z6",
        "colab": {
          "base_uri": "https://localhost:8080/"
        },
        "outputId": "e74ab2fe-cf4f-4b32-d84e-a4bd7e61bfb6"
      },
      "execution_count": null,
      "outputs": [
        {
          "output_type": "stream",
          "name": "stdout",
          "text": [
            "a\n"
          ]
        }
      ]
    },
    {
      "cell_type": "code",
      "source": [
        "# Numerical tests involving equality and inequality, greater than and less than, greater than or equal to, and less than or equal to\n",
        "\n",
        "#Numerical equality\n",
        "score = 126\n",
        "score == 126"
      ],
      "metadata": {
        "colab": {
          "base_uri": "https://localhost:8080/"
        },
        "id": "MIFtI0hGiJl2",
        "outputId": "6d47f514-2627-49d5-eecb-13b938b774fc"
      },
      "execution_count": null,
      "outputs": [
        {
          "output_type": "execute_result",
          "data": {
            "text/plain": [
              "True"
            ]
          },
          "metadata": {},
          "execution_count": 149
        }
      ]
    },
    {
      "cell_type": "code",
      "source": [
        "#Numerical inequality\n",
        "Count = 75\n",
        "Count == 35"
      ],
      "metadata": {
        "colab": {
          "base_uri": "https://localhost:8080/"
        },
        "id": "DsgavNY-iiJx",
        "outputId": "eb425e53-0437-4d5d-daa1-d9302e83d16c"
      },
      "execution_count": null,
      "outputs": [
        {
          "output_type": "execute_result",
          "data": {
            "text/plain": [
              "False"
            ]
          },
          "metadata": {},
          "execution_count": 150
        }
      ]
    },
    {
      "cell_type": "code",
      "source": [
        "#Numerical greater than / equal to, or \n",
        "\n",
        "number = 1\n",
        "score = 2\n",
        "\n",
        "number <=5 or variable <=0"
      ],
      "metadata": {
        "colab": {
          "base_uri": "https://localhost:8080/"
        },
        "id": "dWzOL9bCiuEl",
        "outputId": "7990c33f-757a-4676-e72f-c09c88490a3a"
      },
      "execution_count": null,
      "outputs": [
        {
          "output_type": "execute_result",
          "data": {
            "text/plain": [
              "True"
            ]
          },
          "metadata": {},
          "execution_count": 155
        }
      ]
    },
    {
      "cell_type": "code",
      "source": [
        "#Numerical less than / equal to, or \n",
        "apple = 25\n",
        "orange = 15\n",
        "\n",
        "apple <=50 or orange >=15\n"
      ],
      "metadata": {
        "colab": {
          "base_uri": "https://localhost:8080/"
        },
        "id": "jULLCfHCjYe_",
        "outputId": "c688ad5d-813b-404b-bff6-5df90bbd2645"
      },
      "execution_count": null,
      "outputs": [
        {
          "output_type": "execute_result",
          "data": {
            "text/plain": [
              "True"
            ]
          },
          "metadata": {},
          "execution_count": 157
        }
      ]
    },
    {
      "cell_type": "code",
      "source": [
        "# Test whether an item is in a list\n",
        "\n",
        "login_username = ['Bella', 'Andrew', 'Edgar', 'Ana']\n",
        "user = 'Ana'\n",
        "\n",
        "if user in login_username:\n",
        "  print(user.title() + \", please proceed!\")"
      ],
      "metadata": {
        "colab": {
          "base_uri": "https://localhost:8080/"
        },
        "id": "s5aHjDjMjx2S",
        "outputId": "660da171-3912-4719-811b-735566cb751f"
      },
      "execution_count": null,
      "outputs": [
        {
          "output_type": "stream",
          "name": "stdout",
          "text": [
            "Ana, please proceed!\n"
          ]
        }
      ]
    },
    {
      "cell_type": "code",
      "source": [
        "#Test whether an item is not in a list\n",
        "\n",
        "login_username = ['Bella', 'Andrew', 'Edgar']\n",
        "user = 'Ana'\n",
        "\n",
        "if user not in login_username:\n",
        "  print(user.title() + \", please register online!\")\n"
      ],
      "metadata": {
        "colab": {
          "base_uri": "https://localhost:8080/"
        },
        "id": "4_5M-dfUkSFq",
        "outputId": "c916ad4a-64bf-4231-99fb-dac8a28697dd"
      },
      "execution_count": null,
      "outputs": [
        {
          "output_type": "stream",
          "name": "stdout",
          "text": [
            "Ana, please register online!\n"
          ]
        }
      ]
    },
    {
      "cell_type": "code",
      "source": [
        "#Simple if statements\n",
        "\n",
        "age = 19\n",
        "if age >= 18:\n",
        "  print(\"You are old enough to vote!\")"
      ],
      "metadata": {
        "colab": {
          "base_uri": "https://localhost:8080/"
        },
        "id": "hX1sWn2kkuJh",
        "outputId": "e1e100d2-a008-4b90-be49-0e7a497dbca5"
      },
      "execution_count": null,
      "outputs": [
        {
          "output_type": "stream",
          "name": "stdout",
          "text": [
            "You are old enough to vote!\n"
          ]
        }
      ]
    },
    {
      "cell_type": "code",
      "source": [
        "#if-else statements\n",
        "\n",
        "age = 17\n",
        "if age >= 18:\n",
        "  print(\"You are old enough to vote!\")\n",
        "  print(\"Have you registered to vote yet?\")\n",
        "\n",
        "else: \n",
        "  print(\"Sorry, you are too young to vote.\")\n",
        "  print(\"Please register to vote as soon as you turn 18!\")\n",
        "  "
      ],
      "metadata": {
        "colab": {
          "base_uri": "https://localhost:8080/"
        },
        "id": "YPlv4vcilT-R",
        "outputId": "11097f21-2572-4d9d-e810-64fcb9f48f6a"
      },
      "execution_count": null,
      "outputs": [
        {
          "output_type": "stream",
          "name": "stdout",
          "text": [
            "Sorry, you are too young to vote.\n",
            "Please register to vote as soon as you turn 18!\n"
          ]
        }
      ]
    },
    {
      "cell_type": "code",
      "source": [
        "#The if-elif-else Chain\n",
        "\n",
        "age = 12\n",
        "\n",
        "if age < 4:\n",
        "   print(\"Your admission cost is $0.\")\n",
        "elif age < 18:\n",
        "  print(\"Your admission cost is $5.\")\n",
        "else: \n",
        "  print(\"Your admission cost is $10.\")\n",
        "\n",
        "#simplification \n",
        "\n",
        "age = 12\n",
        "if age < 4:\n",
        "  price = 0\n",
        "elif age < 18:\n",
        "  price = 5\n",
        "else:\n",
        "  price = 10\n",
        "print(\"Your admission cost is $\" + str(price) + \".\")\n"
      ],
      "metadata": {
        "colab": {
          "base_uri": "https://localhost:8080/"
        },
        "id": "DFGZMxulmGlh",
        "outputId": "4f655375-3c75-4d62-af4f-a226c84a5d44"
      },
      "execution_count": null,
      "outputs": [
        {
          "output_type": "stream",
          "name": "stdout",
          "text": [
            "Your admission cost is $5.\n",
            "Your admission cost is $5.\n"
          ]
        }
      ]
    },
    {
      "cell_type": "code",
      "source": [
        "#Multiple elif Blocks\n",
        "age = 12\n",
        "if age < 4:\n",
        "  price = 0\n",
        "elif age < 18:\n",
        "  price = 5\n",
        "\n",
        "elif age < 65:\n",
        "  price = 10\n",
        "else:\n",
        "  price = 5\n",
        "print(\"Your admission cost is $\" + str(price) + \".\")\n"
      ],
      "metadata": {
        "colab": {
          "base_uri": "https://localhost:8080/"
        },
        "id": "FjJvzpE3ndre",
        "outputId": "65e0eea5-038e-49e7-f020-f47f361aa127"
      },
      "execution_count": null,
      "outputs": [
        {
          "output_type": "stream",
          "name": "stdout",
          "text": [
            "Your admission cost is $5.\n"
          ]
        }
      ]
    },
    {
      "cell_type": "code",
      "source": [
        "#Omitting the else Block\n",
        "age = 12\n",
        "if age < 4:\n",
        "  price = 0\n",
        "elif age < 18:\n",
        "  price = 5\n",
        "elif age < 65:\n",
        "  price = 10\n",
        "elif age >= 65:\n",
        "  price = 5\n",
        "print(\"Your admission cost is $\" + str(price) + \".\")"
      ],
      "metadata": {
        "colab": {
          "base_uri": "https://localhost:8080/"
        },
        "id": "OvCCf4sdnyzr",
        "outputId": "cba586da-06bf-4510-d8b5-ac969488c855"
      },
      "execution_count": null,
      "outputs": [
        {
          "output_type": "stream",
          "name": "stdout",
          "text": [
            "Your admission cost is $5.\n"
          ]
        }
      ]
    },
    {
      "cell_type": "code",
      "source": [
        "#Testing multiple conditions \n",
        "#Pizza toppings\n",
        "\n",
        "requested_toppings = ['mushrooms', 'extra cheese']\n",
        "if 'mushrooms' in requested_toppings:\n",
        "    print(\"Adding mushrooms.\")\n",
        "if 'pepperoni' in requested_toppings: \n",
        "    print(\"Adding pepperoni.\")\n",
        "if 'extra cheese'in requested_toppings:\n",
        "    print(\"Adding extra cheese.\")\n",
        "\n",
        "print(\"\\nFinished making your pizza!\")"
      ],
      "metadata": {
        "id": "8p_IxrleDFjS",
        "colab": {
          "base_uri": "https://localhost:8080/"
        },
        "outputId": "6cd9b8ea-6cb4-472d-c4f9-0d8f435aa086"
      },
      "execution_count": null,
      "outputs": [
        {
          "output_type": "stream",
          "name": "stdout",
          "text": [
            "Adding mushrooms.\n",
            "Adding extra cheese.\n",
            "\n",
            "Finished making your pizza!\n"
          ]
        }
      ]
    },
    {
      "cell_type": "code",
      "source": [
        "#Adding if-elif-else \n",
        "requested_toppings = ['mushrooms', 'extra cheese']\n",
        "if 'mushrooms' in requested_toppings:\n",
        "    print(\"Adding mushrooms.\")\n",
        "elif 'pepperoni' in requested_toppings: \n",
        "    print(\"Adding pepperoni.\")\n",
        "elif 'extra cheese'in requested_toppings:\n",
        "    print(\"Adding extra cheese.\")\n",
        "\n",
        "print(\"\\nFinished making your pizza!\")\n"
      ],
      "metadata": {
        "colab": {
          "base_uri": "https://localhost:8080/"
        },
        "id": "RhWfA7UHAKoY",
        "outputId": "cc786622-0032-47dd-cc1e-267a25191b3c"
      },
      "execution_count": null,
      "outputs": [
        {
          "output_type": "stream",
          "name": "stdout",
          "text": [
            "Adding mushrooms.\n",
            "\n",
            "Finished making your pizza!\n"
          ]
        }
      ]
    },
    {
      "cell_type": "code",
      "source": [
        "#Alien Colors 1 : Imagine an alien was just shot down in a game. Create a variable called alien_color and assign it a value of 'green', 'yellow', or 'red'.\n",
        "\n",
        "alien_color = 'green'\n",
        "if alien_color == 'green':\n",
        "    print(\"you earned 5 points\")"
      ],
      "metadata": {
        "colab": {
          "base_uri": "https://localhost:8080/"
        },
        "id": "K-e8-bMEJsY4",
        "outputId": "502ada6a-3ad0-438d-b402-417c71a34055"
      },
      "execution_count": null,
      "outputs": [
        {
          "output_type": "stream",
          "name": "stdout",
          "text": [
            "you earned 5 points\n"
          ]
        }
      ]
    },
    {
      "cell_type": "code",
      "source": [
        "#Write one version of this program that passes the if test and another that fails. (The version that fails will have no output.)\n",
        "#PASS\n",
        "alien_color = ['green', 'yellow', 'red']\n",
        "if 'green'in alien_color: \n",
        "   print(\"\\nYou just earned 5 points!\")\n",
        "\n",
        "#FAIL\n",
        "alien_color = ['green', 'yellow', 'red']\n",
        "if 'green'in alien_color: \n",
        "   print(\"Green is dead!\")\n",
        "if 'brown'in alien_color:\n",
        "   print(\"Brown is dead!\")\n",
        "\n"
      ],
      "metadata": {
        "colab": {
          "base_uri": "https://localhost:8080/"
        },
        "id": "yeDghOMrOwwd",
        "outputId": "93793f0a-8b39-4161-ab8b-01b0bb49f7f2"
      },
      "execution_count": null,
      "outputs": [
        {
          "output_type": "stream",
          "name": "stdout",
          "text": [
            "\n",
            "You just earned 5 points!\n",
            "Green is dead!\n"
          ]
        }
      ]
    },
    {
      "cell_type": "code",
      "source": [
        "#Alien colors 2: if / else statement  \n",
        "alien_color = ['green', 'yellow', 'red']\n",
        "if 'green' in alien_color:\n",
        "    print(\"You've just earned 5 points!\")\n",
        "else: \n",
        "    print(\"You've just earned 10 points!\")\n",
        "\n",
        "if 'black' in alien_color:\n",
        "    print(\"You've just earned 5 points!\")\n",
        "else: \n",
        "    print(\"You've just earned 10 points!\")\n",
        " "
      ],
      "metadata": {
        "colab": {
          "base_uri": "https://localhost:8080/"
        },
        "id": "dICWZ8MJsoH3",
        "outputId": "f1c13d96-30ac-4580-c3a2-c85a17aa8c77"
      },
      "execution_count": null,
      "outputs": [
        {
          "output_type": "stream",
          "name": "stdout",
          "text": [
            "You've just earned 5 points!\n",
            "You've just earned 10 points!\n"
          ]
        }
      ]
    },
    {
      "cell_type": "code",
      "source": [
        "#Alien colors 3: if-elif-else chain \n",
        "#1\n",
        "alien_color = 'green'\n",
        "if 'green' in alien_color:\n",
        "    print(\"You've just earned 5 points!\")\n",
        "elif 'yellow' in alien_color:\n",
        "    print(\"You've just earned 10 points!\")\n",
        "else: \n",
        "    print(\"You've just earned 15 points!\")"
      ],
      "metadata": {
        "colab": {
          "base_uri": "https://localhost:8080/"
        },
        "id": "vpUDXA11v78n",
        "outputId": "b0ec777d-aba8-447d-9d41-619a41c9140b"
      },
      "execution_count": null,
      "outputs": [
        {
          "output_type": "stream",
          "name": "stdout",
          "text": [
            "You've just earned 5 points!\n"
          ]
        }
      ]
    },
    {
      "cell_type": "code",
      "source": [
        "#Alien colors 3: if-elif-else chain \n",
        "#2\n",
        "alien_color = 'yellow'\n",
        "if 'green' in alien_color:\n",
        "    print(\"You've just earned 5 points!\")\n",
        "elif 'yellow' in alien_color:\n",
        "    print(\"You've just earned 10 points!\")\n",
        "else: \n",
        "    print(\"You've just earned 15 points!\")"
      ],
      "metadata": {
        "colab": {
          "base_uri": "https://localhost:8080/"
        },
        "id": "5AqHhbnGw8qV",
        "outputId": "4a9825d8-4641-485d-da62-eedf09853716"
      },
      "execution_count": null,
      "outputs": [
        {
          "output_type": "stream",
          "name": "stdout",
          "text": [
            "You've just earned 10 points!\n"
          ]
        }
      ]
    },
    {
      "cell_type": "code",
      "source": [
        "#Alien colors 3: if-elif-else chain \n",
        "#3\n",
        "alien_color = 'red'\n",
        "if 'green' in alien_color:\n",
        "    print(\"You've just earned 5 points!\")\n",
        "elif 'yellow' in alien_color:\n",
        "    print(\"You've just earned 10 points!\")\n",
        "else: \n",
        "    print(\"You've just earned 15 points!\")"
      ],
      "metadata": {
        "colab": {
          "base_uri": "https://localhost:8080/"
        },
        "id": "t_fCGz6BxuGH",
        "outputId": "ceee14bd-1105-4770-d59d-c7c35331c849"
      },
      "execution_count": null,
      "outputs": [
        {
          "output_type": "stream",
          "name": "stdout",
          "text": [
            "You've just earned 15 points!\n"
          ]
        }
      ]
    },
    {
      "cell_type": "code",
      "source": [
        "#Stages of Life: Write an if-elif-else chain that determines a person’s stage of life. Set a value for the variable age, and then:\n",
        "\n",
        "#If the person is less than 2 years old, print a message that the person is a baby.\n",
        "\n",
        "person_age = 12\n",
        "if person_age < 2:\n",
        "   print(\"You're a baby!\")\n",
        "elif person_age <=4:\n",
        "   print(\"You're a toddler!\")\n",
        "elif person_age <=13:\n",
        "   print(\"You're a kid!\")\n",
        "elif person_age <=20:\n",
        "   print(\"You're a teenager!\")\n",
        "elif person_age <=65:\n",
        "   print(\"You're an adult!\")\n",
        "else:\n",
        "   print(\"You're an elder!\")"
      ],
      "metadata": {
        "colab": {
          "base_uri": "https://localhost:8080/"
        },
        "id": "TlXvHpNUx34S",
        "outputId": "534822af-42fb-4cc6-c992-8cd87d358459"
      },
      "execution_count": null,
      "outputs": [
        {
          "output_type": "stream",
          "name": "stdout",
          "text": [
            "You're a kid!\n"
          ]
        }
      ]
    },
    {
      "cell_type": "code",
      "source": [
        "#Favorite Fruit: Make a list of your favorite fruits, and then write a series of independent if statements that check for certain fruits in your list.\n",
        "\n",
        "#Make a list of your three favorite fruits and call it favorite_fruits.\n",
        "#LIST\n",
        "super_favorite_fruits = ['banana', 'litchi', 'mango', 'kiwi']\n",
        "print(super_favorite_fruits)\n",
        "\n",
        "#Write five if statements. Each should check whether a certain kind of fruit is in your list. If the fruit is in your list, the if block should print a statement, such as \"You really like bananas!\"\n",
        "\n",
        "if 'kiwki' in super_favorite_fruits:\n",
        "    print(\"You really like kiwis!\")\n",
        "if 'banana' in super_favorite_fruits:\n",
        "    print(\"You really like bananas!\")\n",
        "if 'litchi' in super_favorite_fruits:\n",
        "    print(\"You really like litchi!\")\n",
        "if 'mango' in super_favorite_fruits:\n",
        "    print(\"You really like mangos!\")\n",
        "    \n"
      ],
      "metadata": {
        "colab": {
          "base_uri": "https://localhost:8080/"
        },
        "id": "i98DDxXYzdZd",
        "outputId": "5c9d9ec8-8c64-424f-c6a5-fc52bf27033b"
      },
      "execution_count": null,
      "outputs": [
        {
          "output_type": "stream",
          "name": "stdout",
          "text": [
            "['banana', 'litchi', 'mango', 'kiwi']\n",
            "You really like bananas!\n",
            "You really like litchi!\n",
            "You really like mangos!\n"
          ]
        }
      ]
    },
    {
      "cell_type": "code",
      "source": [
        "requested_toppings = ['mushrooms', 'green peppers', 'extra cheese']\n",
        "\n",
        "for requested_toppings in requested_toppings:\n",
        "    print(\"Adding \" + requested_toppings + \".\")\n",
        "\n",
        "print(\"\\nFinished making your pizza!\")"
      ],
      "metadata": {
        "colab": {
          "base_uri": "https://localhost:8080/"
        },
        "id": "aosGkcazJlsC",
        "outputId": "c1fdf7b7-31eb-4b54-ad75-30ade38233e9"
      },
      "execution_count": null,
      "outputs": [
        {
          "output_type": "stream",
          "name": "stdout",
          "text": [
            "Adding mushrooms.\n",
            "Adding green peppers.\n",
            "Adding extra cheese.\n",
            "\n",
            "Finished making your pizza!\n"
          ]
        }
      ]
    },
    {
      "cell_type": "code",
      "source": [
        "requested_toppings = ['mushrooms', 'green peppers', 'extra cheese']\n",
        "\n",
        "for requested_toppings in requested_toppings:\n",
        "    if requested_toppings == 'green peppers':\n",
        "       print(\"Sorry, we are out of green peppers right now.\")\n",
        "    else:\n",
        "       print(\"Adding \" + requested_toppings + \".\")\n",
        "print(\"\\nFinished making your pizza!\")\n",
        "\n"
      ],
      "metadata": {
        "colab": {
          "base_uri": "https://localhost:8080/"
        },
        "id": "IfwozROc7Zsn",
        "outputId": "e8808471-d8f8-4587-ffb5-25883d31254c"
      },
      "execution_count": null,
      "outputs": [
        {
          "output_type": "stream",
          "name": "stdout",
          "text": [
            "Adding mushrooms.\n",
            "Sorry, we are out of green peppers right now.\n",
            "Adding extra cheese.\n",
            "\n",
            "Finished making your pizza!\n"
          ]
        }
      ]
    },
    {
      "cell_type": "code",
      "source": [
        "requested_toppings = []\n",
        "if requested_toppings:\n",
        "   for requested_topping in requested_toppings:\n",
        "        print(\"Adding \" + requested_topping + \".\")\n",
        "print(\"\\nFinished making pizza!\")\n"
      ],
      "metadata": {
        "colab": {
          "base_uri": "https://localhost:8080/"
        },
        "id": "auJbwWx8-a_7",
        "outputId": "20a97273-2436-46c5-8a21-631d855f4ece"
      },
      "execution_count": null,
      "outputs": [
        {
          "output_type": "stream",
          "name": "stdout",
          "text": [
            "\n",
            "Finished making pizza!\n"
          ]
        }
      ]
    },
    {
      "cell_type": "code",
      "source": [
        "requested_toppings = []\n",
        "if requested_toppings:\n",
        "   for requested_topping in requested_toppings:\n",
        "        print(\"Adding \" + requested_topping + \".\")\n",
        "else:\n",
        "  print(\"Are you sure you want a plain pizza?\")"
      ],
      "metadata": {
        "colab": {
          "base_uri": "https://localhost:8080/"
        },
        "id": "MM7_gsQeguaM",
        "outputId": "1a87a85f-db40-4d0a-f430-9a0df1d415e5"
      },
      "execution_count": null,
      "outputs": [
        {
          "output_type": "stream",
          "name": "stdout",
          "text": [
            "Are you sure you want a plain pizza?\n"
          ]
        }
      ]
    },
    {
      "cell_type": "code",
      "source": [
        "available_toppings = ['mushrooms', 'olives', 'green peppers', 'pepperoni', 'pineapple', 'extra cheese']\n",
        "\n",
        "requested_toppings = ['mushrooms', 'french fries', 'extra cheese']\n",
        "\n",
        "for requested_topping in requested_toppings:\n",
        "    if requested_topping in available_toppings:\n",
        "        print(\"Adding \" + requested_topping + \".\")\n",
        "    else:\n",
        "        print(\"Sorry, we don't have \" + requested_topping + \".\")\n",
        "print(\"\\nFinished making your pizza!\")"
      ],
      "metadata": {
        "colab": {
          "base_uri": "https://localhost:8080/"
        },
        "id": "oj57UlKahJPn",
        "outputId": "d58ff2b4-fbfb-43b7-b0fb-b7babec19da2"
      },
      "execution_count": null,
      "outputs": [
        {
          "output_type": "stream",
          "name": "stdout",
          "text": [
            "Adding mushrooms.\n",
            "Sorry, we don't have french fries.\n",
            "Adding extra cheese.\n",
            "\n",
            "Finished making your pizza!\n"
          ]
        }
      ]
    },
    {
      "cell_type": "code",
      "source": [
        "#Make a list of five or more usernames, including the name 'admin'. Imagine you are writing code that will print a greeting to each user after they log in to a website. Loop through the list, and print a greeting to each user:\n",
        "\n",
        "user_names = ['Admin', 'Sarah', 'Eric', 'Chad', 'Elisa']\n",
        "\n",
        "for user_name in user_names:\n",
        "    if user_name == 'Admin':\n",
        "       print(\"Hello \" + user_name + \", would you like to see a status report?\")\n",
        "    else: \n",
        "        print(\"Hello \" + user_name + \", thank you for loging in again.\")"
      ],
      "metadata": {
        "colab": {
          "base_uri": "https://localhost:8080/"
        },
        "id": "oSch-2xriWhb",
        "outputId": "c79dd40a-9273-4dad-d5a6-be250785a609"
      },
      "execution_count": null,
      "outputs": [
        {
          "output_type": "stream",
          "name": "stdout",
          "text": [
            "Hello Admin, would you like to see a status report?\n",
            "Hello Sarah, thank you for loging in again.\n",
            "Hello Eric, thank you for loging in again.\n",
            "Hello Chad, thank you for loging in again.\n",
            "Hello Elisa, thank you for loging in again.\n"
          ]
        }
      ]
    },
    {
      "cell_type": "code",
      "source": [
        "#No Users: Add an if test to hello_admin.py to make sure the list of users is not empty.\n",
        "user_list = []\n",
        "\n",
        "if user_list:\n",
        "    for user_list_name in user_list:\n",
        "        print(\"Hello \" + user_list_name + \", thank you for loging in again.\")\n",
        "else: \n",
        "        print(\"We need to find some users!\")\n"
      ],
      "metadata": {
        "colab": {
          "base_uri": "https://localhost:8080/"
        },
        "id": "c484my-Fkw6s",
        "outputId": "95f40a36-8d82-4b31-c7d4-d7f7369d93ea"
      },
      "execution_count": null,
      "outputs": [
        {
          "output_type": "stream",
          "name": "stdout",
          "text": [
            "We need to find some users!\n"
          ]
        }
      ]
    },
    {
      "cell_type": "code",
      "source": [
        "#Do the following to create a program that simulates how websites ensure that everyone has a unique username.\n",
        "#Loop through the new_users list to see if each new username has already been used. If it has, print a message that the person will need to enter a new username. \n",
        "#If a username has not been used, print a message saying that the username is available.\n",
        "\n",
        "current_users = ['Dennise', 'Sarah', 'Eric', 'Chad', 'Elisa']\n",
        "\n",
        "new_users = ['Aba', 'Sarah', 'John', 'Chad', 'Helen']\n",
        "\n",
        "for new_user in new_users:\n",
        "    if new_user in current_users:\n",
        "       print(\"Please add another name. \" + new_user +  \" has already been used.\")\n",
        "    else: \n",
        "        print(new_user + \" is available.\")\n"
      ],
      "metadata": {
        "colab": {
          "base_uri": "https://localhost:8080/"
        },
        "id": "IrRD1mfhnOIQ",
        "outputId": "58d6c044-0f6e-4fee-e997-4af66014f207"
      },
      "execution_count": null,
      "outputs": [
        {
          "output_type": "stream",
          "name": "stdout",
          "text": [
            "Aba is available.\n",
            "Please add another name. Sarah has already been used.\n",
            "John is available.\n",
            "Please add another name. Chad has already been used.\n",
            "Helen is available.\n"
          ]
        }
      ]
    },
    {
      "cell_type": "code",
      "source": [
        "#Make sure your comparison is case insensitive. If 'John' has been used, 'JOHN' should not be accepted.\n",
        "\n"
      ],
      "metadata": {
        "id": "ofwsWAt-rsTL"
      },
      "execution_count": null,
      "outputs": []
    },
    {
      "cell_type": "code",
      "source": [
        "#Store the numbers 1 through 9 in a list.\n",
        "#Loop through the list.\n",
        "#Use an if-elif-else chain inside the loop to print the proper ordinal ending for each number. Your output should read \"1st 2nd 3rd 4th 5th 6th 7th 8th 9th\", and each result \n",
        "#should be on a separate line.\n",
        "\n",
        "number_list_00 = [1,2,3,4,5,6,7,8,9]\n",
        "for numbers in number_list_00:\n",
        "    print(numbers)\n",
        "\n",
        "number_list_00 = [1,2,3,4,5,6,7,8,9]\n",
        "if 1 in number_list_00:\n",
        "   print('st')\n",
        "\n",
        "*****pending to solve ******\n"
      ],
      "metadata": {
        "colab": {
          "base_uri": "https://localhost:8080/"
        },
        "id": "tYwpu2Mxr8A5",
        "outputId": "ba6181f8-8b5e-4fb5-8bdf-06b62337885b"
      },
      "execution_count": null,
      "outputs": [
        {
          "output_type": "stream",
          "name": "stdout",
          "text": [
            "1\n",
            "2\n",
            "3\n",
            "4\n",
            "5\n",
            "6\n",
            "7\n",
            "8\n",
            "9\n",
            "st\n"
          ]
        }
      ]
    },
    {
      "cell_type": "code",
      "source": [
        "#Unit 6 - Sample Dictionary\n",
        "\n",
        "alien_0 = {'color': 'green', 'points': 5}\n",
        "\n",
        "print(alien_0['color'])\n",
        "print(alien_0['points'])"
      ],
      "metadata": {
        "colab": {
          "base_uri": "https://localhost:8080/"
        },
        "id": "NQEa0vOJdfEd",
        "outputId": "5675160d-e433-4a7f-a7b7-4e67a1d1e138"
      },
      "execution_count": null,
      "outputs": [
        {
          "output_type": "stream",
          "name": "stdout",
          "text": [
            "green\n",
            "5\n"
          ]
        }
      ]
    },
    {
      "cell_type": "code",
      "source": [
        "#Working with dictionaries / Accesing values in a Dictionary\n",
        "alien_0 = {'color': 'green', 'points': 5}\n",
        "\n",
        "new_points = alien_0['points']\n",
        "print(\"You just earned \" + str(new_points) + \" points!\")"
      ],
      "metadata": {
        "colab": {
          "base_uri": "https://localhost:8080/"
        },
        "id": "hYHUrroxfegO",
        "outputId": "1e06b906-d187-445d-8908-4f1075854aed"
      },
      "execution_count": null,
      "outputs": [
        {
          "output_type": "stream",
          "name": "stdout",
          "text": [
            "You just earned 5 points!\n"
          ]
        }
      ]
    },
    {
      "cell_type": "code",
      "source": [
        "#Adding New Key-Value Pairs\n",
        "alien_0 = {'color': 'green', 'points': 5}\n",
        "print(alien_0)\n",
        "\n",
        "alien_0['x_position'] = 0\n",
        "alien_0['y position'] = 25 \n",
        "print(alien_0)"
      ],
      "metadata": {
        "colab": {
          "base_uri": "https://localhost:8080/"
        },
        "id": "o5Hk-wq1EZfV",
        "outputId": "036f3a60-1bcf-4899-ee09-16f06e1ec710"
      },
      "execution_count": null,
      "outputs": [
        {
          "output_type": "stream",
          "name": "stdout",
          "text": [
            "{'color': 'green', 'points': 5}\n",
            "{'color': 'green', 'points': 5, 'x_position': 0, 'y position': 25}\n"
          ]
        }
      ]
    },
    {
      "cell_type": "code",
      "source": [
        "#Starting with an empty dictionary\n",
        "alien_0 = {}\n",
        "alien_0['color'] = 'green'\n",
        "alien_0['points'] = 5\n",
        "\n",
        "print(alien_0)\n"
      ],
      "metadata": {
        "colab": {
          "base_uri": "https://localhost:8080/"
        },
        "id": "QKRZjl_CjBHX",
        "outputId": "8930eb70-081d-4c81-d65a-035455f7c47c"
      },
      "execution_count": null,
      "outputs": [
        {
          "output_type": "stream",
          "name": "stdout",
          "text": [
            "{'color': 'green', 'points': 5}\n"
          ]
        }
      ]
    },
    {
      "cell_type": "code",
      "source": [
        "#Modifying values in a dictionary\n",
        "alien_0 = {'color': 'green'}\n",
        "print(\"The alien is \" + alien_0['color'] + \".\")\n",
        "\n",
        "alien_0['color'] = 'yellow'\n",
        "print(\"The alien is now \" + alien_0['color'] + \".\")"
      ],
      "metadata": {
        "colab": {
          "base_uri": "https://localhost:8080/"
        },
        "id": "FdGu6j9fjoYe",
        "outputId": "c000d089-1635-486a-979f-d1f313f7c3fb"
      },
      "execution_count": null,
      "outputs": [
        {
          "output_type": "stream",
          "name": "stdout",
          "text": [
            "The alien is green.\n",
            "The alien is now yellow.\n"
          ]
        }
      ]
    },
    {
      "cell_type": "code",
      "source": [
        "#Let's track the position of an alien that can move at different speeds. \n",
        "#Determine how far to the right the alien should move.\n",
        "alien_0 = {'x_position': 0, 'y_position': 25, 'speed': 'medium'}\n",
        "print(\"Original x-position: \" + str(alien_0['x_position']))\n",
        "\n",
        "#Move the alien to the right.\n",
        "#Determine how far to move the alien based on its current speed.\n",
        "if alien_0['speed'] == 'slow':\n",
        "   x_increment = 1\n",
        "elif alien_0['speed'] == 'medium':\n",
        "   x_increment = 2\n",
        "else:\n",
        "  #This must be a fast alien.\n",
        "  x_increment = 3\n",
        "\n",
        "#The new position  is the old position plus the increment.\n",
        "alien_0['x_position'] = alien_0['x_position'] + x_increment\n",
        "\n",
        "print(\"New x-position: \" + str(alien_0['x_position']))\n",
        "\n",
        "\n",
        "#Fast alien\n",
        "\n",
        "alien_0 = {'x_position': 0, 'y_position': 25, 'speed': 'fast'}\n",
        "print(\"Original x-position: \" + str(alien_0['x_position']))\n",
        "\n",
        "#Move the alien to the right.\n",
        "#Determine how far to move the alien based on its current speed.\n",
        "if alien_0['speed'] == 'slow':\n",
        "   x_increment = 1\n",
        "elif alien_0['speed'] == 'medium':\n",
        "   x_increment = 2\n",
        "else:\n",
        "  #This must be a fast alien.\n",
        "  x_increment = 3\n",
        "\n",
        "#The new position  is the old position plus the increment.\n",
        "alien_0['x_position'] = alien_0['x_position'] + x_increment\n",
        "\n",
        "print(\"New x-position: \" + str(alien_0['x_position']))"
      ],
      "metadata": {
        "colab": {
          "base_uri": "https://localhost:8080/"
        },
        "id": "RsiV22QnkSVI",
        "outputId": "5e7dde30-df0d-4b2a-d10d-b8ce827ea91e"
      },
      "execution_count": null,
      "outputs": [
        {
          "output_type": "stream",
          "name": "stdout",
          "text": [
            "Original x-position: 0\n",
            "New x-position: 2\n",
            "Original x-position: 0\n",
            "New x-position: 3\n"
          ]
        }
      ]
    },
    {
      "cell_type": "code",
      "source": [
        "#Removing Key-Value Pairs\n",
        "#Remove the key points from the dictionary along with its value.\n",
        "alien_0 = {'color': 'green', 'points': 5}\n",
        "print(alien_0)\n",
        "\n",
        "del alien_0['points']\n",
        "print(alien_0)"
      ],
      "metadata": {
        "colab": {
          "base_uri": "https://localhost:8080/"
        },
        "id": "VhGl5q2gpIPA",
        "outputId": "e5fcfaff-f3e6-4a67-ccd0-ff51be7ae447"
      },
      "execution_count": null,
      "outputs": [
        {
          "output_type": "stream",
          "name": "stdout",
          "text": [
            "{'color': 'green', 'points': 5}\n",
            "{'color': 'green'}\n"
          ]
        }
      ]
    },
    {
      "cell_type": "code",
      "source": [
        "#A dictionary of similar objects \n",
        "favorite_languages = {\n",
        "    'jen': 'python',\n",
        "    'sarah': 'c',\n",
        "    'edward': 'ruby',\n",
        "    'phil': 'python',\n",
        "\n",
        "}\n",
        "print(\"Sarah's favorite language is \" + \n",
        "      favorite_languages['sarah'].title() + \n",
        "      \".\")\n",
        "\n",
        "      "
      ],
      "metadata": {
        "colab": {
          "base_uri": "https://localhost:8080/"
        },
        "id": "A6XJ8CFnqSEQ",
        "outputId": "46fa4078-f41d-42dc-dc2d-fe8aa85cfbf6"
      },
      "execution_count": null,
      "outputs": [
        {
          "output_type": "stream",
          "name": "stdout",
          "text": [
            "Sarah's favorite language is C.\n"
          ]
        }
      ]
    },
    {
      "cell_type": "code",
      "source": [
        "#Storing information about a person you know. Store first name, age and the city\n",
        "#in which they live. Print each piece of information stored in your dictionary.\n",
        "\n",
        "Zaha_Hadid_information = {'first_name': 'Zaha', 'age': 65, 'city': 'Iraq'}\n",
        "print(Zaha_Hadid_information['first_name'])\n",
        "print(Zaha_Hadid_information['age'])\n",
        "print(Zaha_Hadid_information['city'])"
      ],
      "metadata": {
        "colab": {
          "base_uri": "https://localhost:8080/"
        },
        "id": "Pm_RlBkTtX50",
        "outputId": "d7b1b844-5f86-4ee4-92ea-12fee619770c"
      },
      "execution_count": null,
      "outputs": [
        {
          "output_type": "stream",
          "name": "stdout",
          "text": [
            "Zaha\n",
            "65\n",
            "Iraq\n"
          ]
        }
      ]
    },
    {
      "cell_type": "code",
      "source": [
        "#Favorite numbers:\n",
        "#Store people's favorite numbers. Think of five names and use them as keys in your dictionary. \n",
        "#think of a favorite number for each person and use them as keys in your dictionary. \n",
        "#Think of a favorite number for each person and store each as a value in your dictionary.\n",
        "#Print each person's name and their favorite number.\n",
        "\n",
        "Peoples_names = {\n",
        "    'name_1': 'Lana',\n",
        "    'name_2': 'Rhodes',\n",
        "    'name_3': 'Amelie',\n",
        "    'name_4': 'Andy',\n",
        "    'name_5': 'Erin'\n",
        "}\n",
        "\n",
        "Peoples_numbers = {\n",
        "    'Lana': '7',\n",
        "    'Rhodes': '15',\n",
        "    'Amelie': '30',\n",
        "    'Andy': '65',\n",
        "    'Erin': '18'\n",
        "}\n",
        "\n",
        "print(\"His/her name is: \" + Peoples_names['name_1'] + \" and he's/her number is \" + Peoples_numbers['Lana'] + \n",
        "       \".\") \n",
        "print(\"His/her name is: \" + Peoples_names['name_2'] + \" and he's/her number is \" + Peoples_numbers['Rhodes'] + \n",
        "       \".\")\n",
        "print(\"His/her name is: \" + Peoples_names['name_3'] + \" and he's/her number is \" + Peoples_numbers['Amelie'] + \n",
        "       \".\")\n",
        "print(\"His/her name is: \" + Peoples_names['name_4'] + \" and he's/her number is \" + Peoples_numbers['Andy'] + \n",
        "       \".\") \n",
        "print(\"His/her name is: \" + Peoples_names['name_5'] + \" and he's/her number is \" + Peoples_numbers['Erin'] + \n",
        "       \".\")\n",
        "\n"
      ],
      "metadata": {
        "id": "304Lbc1Mu2tX",
        "colab": {
          "base_uri": "https://localhost:8080/"
        },
        "outputId": "04d61cbb-ded9-421e-a3bc-baaf1c6034d7"
      },
      "execution_count": null,
      "outputs": [
        {
          "output_type": "stream",
          "name": "stdout",
          "text": [
            "His/her name is: Lana and he's/her number is 7.\n",
            "His/her name is: Rhodes and he's/her number is 15.\n",
            "His/her name is: Amelie and he's/her number is 30.\n",
            "His/her name is: Andy and he's/her number is 65.\n",
            "His/her name is: Erin and he's/her number is 18.\n"
          ]
        }
      ]
    },
    {
      "cell_type": "code",
      "source": [
        "  #Glossary\n",
        "  #Think of five programming words you've learned about in the previous chapters. Use these words as the keys in your glossary and store their meanings as values.\n",
        "  #Print each word and its meaning as neatly formatted output. You might print the word followed by a colon and then its meaning\n",
        "  #Or print the word on one line and then print its meaning indented on a second line. \n",
        "  #Use the newline character (\\n) to insert a blank line between each word-meaning pair in your output. \n",
        "\n",
        "programming_words = {'chapter 1': 'snippets', 'chapter 2': 'concatenated', 'chapter 3': 'popping', 'chapter 4': 'looping', 'chapter 5': 'boolean'}\n",
        "print(programming_words)\n",
        "\n",
        "programming_words = {\n",
        "    'chapter 1': 'snippets',\n",
        "    'chapter 2': 'concatenated',\n",
        "    'chapter 3': 'popping',\n",
        "    'chapter 4': 'looping',\n",
        "    'chapter 5': 'boolean',\n",
        "\n",
        "}\n",
        "print(programming_words['chapter 1'] + \"\\n\" + programming_words['chapter 2'] + \"\\n\" + programming_words['chapter 3'] + \"\\n\" + programming_words['chapter 4'] + \"\\n\" + programming_words['chapter 5'])\n",
        "\n"
      ],
      "metadata": {
        "id": "TrGjA24SfVV3",
        "colab": {
          "base_uri": "https://localhost:8080/"
        },
        "outputId": "edb7cdf9-bbfc-42ba-fa93-daa0a88e8519"
      },
      "execution_count": null,
      "outputs": [
        {
          "output_type": "stream",
          "name": "stdout",
          "text": [
            "{'chapter 1': 'snippets', 'chapter 2': 'concatenated', 'chapter 3': 'popping', 'chapter 4': 'looping', 'chapter 5': 'boolean'}\n",
            "snippets\n",
            "concatenated\n",
            "popping\n",
            "looping\n",
            "boolean\n"
          ]
        }
      ]
    },
    {
      "cell_type": "code",
      "source": [
        "#Looping Through a Dictionary\n",
        "user_0 = {\n",
        "    'username': 'efermi',\n",
        "    'first': 'enrico',\n",
        "    'last': 'fermi',\n",
        "}\n",
        "\n",
        "for key, value in user_0.items():\n",
        "    print(\"\\nKey: \" + key)\n",
        "    print(\"Value: \" + value)\n",
        "\n"
      ],
      "metadata": {
        "colab": {
          "base_uri": "https://localhost:8080/"
        },
        "id": "Qz5SgYpdrG_l",
        "outputId": "593bfeeb-2b80-45c5-830f-4e0ed5538440"
      },
      "execution_count": null,
      "outputs": [
        {
          "output_type": "stream",
          "name": "stdout",
          "text": [
            "\n",
            "Key: username\n",
            "Value: efermi\n",
            "\n",
            "Key: first\n",
            "Value: enrico\n",
            "\n",
            "Key: last\n",
            "Value: fermi\n"
          ]
        }
      ]
    },
    {
      "cell_type": "code",
      "source": [
        "#Looping through key-values pairs with \"Favorite_Languages.py\" example page on 101\n",
        "favorite_languages = {\n",
        "    'jen': 'python',\n",
        "    'sarah': 'C',\n",
        "    'edward': 'ruby',\n",
        "    'phil': 'R',\n",
        "}\n",
        "\n",
        "for name, language in favorite_languages.items():\n",
        "    print(name.title() + \"'s favorite language is \" + language.title() + \".\")"
      ],
      "metadata": {
        "colab": {
          "base_uri": "https://localhost:8080/"
        },
        "id": "rylEjM-PtplE",
        "outputId": "3362ce43-3074-4422-f600-1afeb969fac4"
      },
      "execution_count": null,
      "outputs": [
        {
          "output_type": "stream",
          "name": "stdout",
          "text": [
            "Jen's favorite language is Python.\n",
            "Sarah's favorite language is C.\n",
            "Edward's favorite language is Ruby.\n",
            "Phil's favorite language is R.\n"
          ]
        }
      ]
    },
    {
      "cell_type": "code",
      "source": [
        "#Looping through all the keys in a dictionary (when not working with all the values in a dictionary).\n",
        "\n",
        "favorite_languages = {\n",
        "    'jen': 'python',\n",
        "    'sarah': 'C',\n",
        "    'edward': 'ruby',\n",
        "    'phil': 'R',\n",
        "}\n",
        "\n",
        "for name in favorite_languages.keys():\n",
        "    print(name.title())\n",
        "\n",
        "#Different outputs\n",
        "favorite_languages = {\n",
        "    'jen': 'python',\n",
        "    'sarah': 'C',\n",
        "    'edward': 'ruby',\n",
        "    'phil': 'R',\n",
        "}\n",
        "\n",
        "for name in favorite_languages:\n",
        "    print(name.title())"
      ],
      "metadata": {
        "colab": {
          "base_uri": "https://localhost:8080/"
        },
        "id": "yp2YfP4TvEut",
        "outputId": "5d551bb7-3558-49ab-8a78-a1c9e9f433e3"
      },
      "execution_count": null,
      "outputs": [
        {
          "output_type": "stream",
          "name": "stdout",
          "text": [
            "Jen\n",
            "Sarah\n",
            "Edward\n",
            "Phil\n",
            "Jen\n",
            "Sarah\n",
            "Edward\n",
            "Phil\n"
          ]
        }
      ]
    },
    {
      "cell_type": "code",
      "source": [
        "#Loop through the names in the dictionary as previously done but when the name matches one of our friends, we'll display a message about their favorite language: \n",
        "favorite_languages = {\n",
        "    'jen': 'python',\n",
        "    'sarah': 'C',\n",
        "    'edward': 'ruby',\n",
        "    'phil': 'R',\n",
        "}\n",
        "\n",
        "friends = ['phil', 'sarah']\n",
        "for name in favorite_languages.keys():\n",
        "    print(name.title())\n",
        "\n",
        "    if name in friends:\n",
        "        print(\" Hi \" + name.title() +\n",
        "              \", I see your favorite language is \" + \n",
        "              favorite_languages[name].title() + \"!\")"
      ],
      "metadata": {
        "colab": {
          "base_uri": "https://localhost:8080/"
        },
        "id": "jZVAohCrwF-h",
        "outputId": "291809f1-3199-4a16-c51e-aeba854d9e88"
      },
      "execution_count": null,
      "outputs": [
        {
          "output_type": "stream",
          "name": "stdout",
          "text": [
            "Jen\n",
            "Sarah\n",
            " Hi Sarah, I see your favorite language is C!\n",
            "Edward\n",
            "Phil\n",
            " Hi Phil, I see your favorite language is R!\n"
          ]
        }
      ]
    },
    {
      "cell_type": "code",
      "source": [
        "#Find out if a particular person was polled.\n",
        "favorite_languages = {\n",
        "    'jen': 'python',\n",
        "    'sarah': 'C',\n",
        "    'edward': 'ruby',\n",
        "    'phil': 'R',\n",
        "}\n",
        "\n",
        "if 'erin' not in favorite_languages.keys():\n",
        "    print(\"Erin, please take our poll!\")"
      ],
      "metadata": {
        "id": "ctrzJsg2xwaH",
        "outputId": "e8bf97c1-d7ed-4c44-f566-c684e4c928a6",
        "colab": {
          "base_uri": "https://localhost:8080/"
        }
      },
      "execution_count": null,
      "outputs": [
        {
          "output_type": "stream",
          "name": "stdout",
          "text": [
            "Erin, please take our poll!\n"
          ]
        }
      ]
    },
    {
      "cell_type": "code",
      "source": [
        "#Looping through a dictionary's keys in order\n",
        "favorite_languages = {\n",
        "    'jen': 'python',\n",
        "    'sarah': 'C',\n",
        "    'edward': 'ruby',\n",
        "    'phil': 'R',\n",
        "}\n",
        "\n",
        "for name in sorted(favorite_languages.keys()):\n",
        "    print(name.title() + \", thank you for taking the poll!\")"
      ],
      "metadata": {
        "id": "x4Omv-V9_OYr",
        "outputId": "d5631a20-453d-4768-cb1e-770d34a5b36a",
        "colab": {
          "base_uri": "https://localhost:8080/"
        }
      },
      "execution_count": null,
      "outputs": [
        {
          "output_type": "stream",
          "name": "stdout",
          "text": [
            "Edward, thank you for taking the poll!\n",
            "Jen, thank you for taking the poll!\n",
            "Phil, thank you for taking the poll!\n",
            "Sarah, thank you for taking the poll!\n"
          ]
        }
      ]
    },
    {
      "cell_type": "code",
      "source": [
        "#Looping through all values in a dictionary\n",
        "favorite_languages = {\n",
        "    'jen': 'python',\n",
        "    'sarah': 'C',\n",
        "    'edward': 'ruby',\n",
        "    'phil': 'R',\n",
        "}\n",
        "\n",
        "print(\"The following languages have been mentioned:\")\n",
        "for language in favorite_languages.values():\n",
        "    print(language.title())"
      ],
      "metadata": {
        "id": "EmPfyxL4_2mo",
        "outputId": "4a7c5e2e-bc0d-420b-9fc4-28824d40809e",
        "colab": {
          "base_uri": "https://localhost:8080/"
        }
      },
      "execution_count": null,
      "outputs": [
        {
          "output_type": "stream",
          "name": "stdout",
          "text": [
            "The following languages have been mentioned:\n",
            "Python\n",
            "C\n",
            "Ruby\n",
            "R\n"
          ]
        }
      ]
    },
    {
      "cell_type": "code",
      "source": [
        "# Now that you know how to loop through a dictionary, clean up the code from Exercise 6-3 (page 102) by replacing your series of print\n",
        "# statements with a loop that runs through the dictionary’s keys and values. When you’re sure that your loop works, add five more Python terms to your\n",
        "# glossary. When you run your program again, these new words and meanings should automatically be included in the output.\n",
        "\n",
        "programming_words = {\n",
        "    'chapter 1': 'snippets',\n",
        "    'chapter 2': 'concatenated',\n",
        "    'chapter 3': 'popping',\n",
        "    'chapter 4': 'looping',\n",
        "    'chapter 5': 'boolean',\n",
        "\n",
        "}\n",
        "for chapter, word in programming_words.items():\n",
        "    print(\"In \" + chapter.title() + \" the new word is \" + word.title() + \".\")\n"
      ],
      "metadata": {
        "id": "ArV_TETDCmDE",
        "colab": {
          "base_uri": "https://localhost:8080/"
        },
        "outputId": "1f49c749-c4ec-42bf-8bf2-8b750e3cd4f3"
      },
      "execution_count": null,
      "outputs": [
        {
          "output_type": "stream",
          "name": "stdout",
          "text": [
            "In Chapter 1 the new word is Snippets.\n",
            "In Chapter 2 the new word is Concatenated.\n",
            "In Chapter 3 the new word is Popping.\n",
            "In Chapter 4 the new word is Looping.\n",
            "In Chapter 5 the new word is Boolean.\n"
          ]
        }
      ]
    },
    {
      "cell_type": "code",
      "source": [
        "#Make a dictionary containing three major rivers and the country each river runs through. One key-value pair might be 'nile': 'egypt'.\n",
        "#Use a loop to print a sentence about each river, such as The Nile runs through Egypt.\n",
        "#Use a loop to print the name of each river included in the dictionary.\n",
        "#Use a loop to print the name of each country included in the dictionary.\n",
        "\n",
        "rivers = {\n",
        "    'amazon river': 'south america',\n",
        "    'nile': 'egypt',\n",
        "    'yangtze': 'china',\n",
        "}\n",
        "for river, country in rivers.items():\n",
        "    print(\"The \" + river.title() + \" runs through \" + country.title() + \".\")"
      ],
      "metadata": {
        "colab": {
          "base_uri": "https://localhost:8080/"
        },
        "id": "k51zkAqF2qVe",
        "outputId": "da11a4f4-a071-43c2-ca7e-826352081014"
      },
      "execution_count": null,
      "outputs": [
        {
          "output_type": "stream",
          "name": "stdout",
          "text": [
            "The Amazon River runs through South America.\n",
            "The Nile runs through Egypt.\n",
            "The Yangtze runs through China.\n"
          ]
        }
      ]
    },
    {
      "cell_type": "code",
      "source": [
        "#Use the code in favorite_languages.py (page 104). \n",
        "#Make a list of people who should take the favorite languages poll. Include some names that are already in the dictionary and some that are not.\n",
        "#Loop through the list of people who should take the poll. If they have already taken the poll, print a message thanking them for responding.\n",
        "#If they have not yet taken the poll, print a message inviting them to take the poll.\n",
        "\n",
        "favorite_languages = {\n",
        "'jen': 'python',\n",
        "'sarah': 'c',\n",
        "'edward': 'ruby',\n",
        "'phil': 'python',\n",
        "'john': 'not taken',\n",
        "'elizabeth': 'not taken',\n",
        "}\n",
        "\n",
        "names_1 = ['jen', 'sarah', 'edward', 'phil']\n",
        "for polled in favorite_languages.keys():\n",
        "    print(polled.title())\n",
        "\n",
        "    if polled in names_1:\n",
        "       print(\"Hi, \" + polled.title() + \" thank you for taking the poll!\")\n",
        "\n",
        "    if not polled in names_1:\n",
        "       print(\"Sorry \" + polled.title() + \" , please take the poll!\")\n",
        "\n",
        "     "
      ],
      "metadata": {
        "colab": {
          "base_uri": "https://localhost:8080/"
        },
        "id": "EX0DZq5W35Pp",
        "outputId": "01da0fa9-d6a0-4458-d791-b299c7464a38"
      },
      "execution_count": 63,
      "outputs": [
        {
          "output_type": "stream",
          "name": "stdout",
          "text": [
            "Jen\n",
            "Hi, Jen thank you for taking the poll!\n",
            "Sarah\n",
            "Hi, Sarah thank you for taking the poll!\n",
            "Edward\n",
            "Hi, Edward thank you for taking the poll!\n",
            "Phil\n",
            "Hi, Phil thank you for taking the poll!\n",
            "John\n",
            "Sorry John , please take the poll!\n",
            "Elizabeth\n",
            "Sorry Elizabeth , please take the poll!\n"
          ]
        }
      ]
    },
    {
      "cell_type": "code",
      "source": [
        "#Nesting a list of dictionaries\n",
        "\n",
        "alien_0 = {'color': 'green', 'points': 5}\n",
        "alien_1 = {'color': 'yellow', 'points': 10}\n",
        "alien_2 = {'color': 'red', 'points': 15}\n",
        "\n",
        "aliens = [alien_0, alien_1, alien_2]\n",
        "\n",
        "for alien in aliens:\n",
        "    print(alien)\n",
        "\n"
      ],
      "metadata": {
        "id": "i8dL5QHTSDqb",
        "outputId": "070ae59e-e2c0-48ab-e320-c4dd9590fe19",
        "colab": {
          "base_uri": "https://localhost:8080/"
        }
      },
      "execution_count": 65,
      "outputs": [
        {
          "output_type": "stream",
          "name": "stdout",
          "text": [
            "{'color': 'green', 'points': 5}\n",
            "{'color': 'yellow', 'points': 10}\n",
            "{'color': 'red', 'points': 15}\n"
          ]
        }
      ]
    },
    {
      "cell_type": "code",
      "source": [
        "#Make a nesting list of 30 green aliens\n",
        "aliens = []\n",
        "\n",
        "for alien_number in range(30):\n",
        "    new_alien = {'color': 'green', 'points': 5, 'speed': 'slow'}\n",
        "    aliens.append(new_alien)\n",
        "\n",
        "#Show the first 5 aliens:\n",
        "for alien in aliens[:5]:\n",
        "    print(alien)\n",
        "print(\"...\")\n",
        "\n",
        "#Show how many aliens have been created\n",
        "print(\"Total number of aliens: \" + str(len(aliens)))"
      ],
      "metadata": {
        "id": "d_vkKSYVTJDK",
        "outputId": "ea77370c-46ef-4044-be8e-ac905d78b27d",
        "colab": {
          "base_uri": "https://localhost:8080/"
        }
      },
      "execution_count": 69,
      "outputs": [
        {
          "output_type": "stream",
          "name": "stdout",
          "text": [
            "{'color': 'green', 'points': 5}\n",
            "{'color': 'yellow', 'points': 10}\n",
            "{'color': 'red', 'points': 15}\n",
            "{'color': 'green', 'points': 5, 'speed': 'slow'}\n",
            "{'color': 'green', 'points': 5, 'speed': 'slow'}\n",
            "...\n",
            "Total number of aliens: 63\n"
          ]
        }
      ]
    },
    {
      "cell_type": "code",
      "source": [
        "#Use a for loop and if statement to change the color of aliens. For example, to change the first three aliens to yellow, medium-speed aliens worth 10 points each.\n",
        "aliens = []\n",
        "\n",
        "for alien_number in range(30):\n",
        "    new_alien = {'color': 'green', 'points': 5, 'speed': 'slow'}\n",
        "    aliens.append(new_alien)\n",
        "\n",
        "    for alien in aliens[0:3]:\n",
        "        if alien['color'] == 'green'\n",
        "           alien['color'] = 'yellow'\n",
        "           alien['speed'] = 'medium'\n",
        "           alien['points'] = 10\n",
        "\n",
        "#Show first 5 aliens: \n",
        "for alien in aliens[0:5]:\n",
        "    print(alien)\n",
        "print(\"...\")"
      ],
      "metadata": {
        "id": "2sJBKKV4S8xa"
      },
      "execution_count": null,
      "outputs": []
    },
    {
      "cell_type": "code",
      "source": [
        "# Adding an elif block that turns yellow aliens into red, fast-moving ones worth 15 points each.\n",
        "\n",
        "aliens = []\n",
        "\n",
        "for alien_number in range(30):\n",
        "    new_alien = {'color': 'green', 'points': 5, 'speed': 'slow'}\n",
        "    aliens.append(new_alien)\n",
        "\n",
        " for alien in aliens[0:3]:\n",
        "        if alien['color'] == 'green'\n",
        "           alien['color'] = 'yellow'\n",
        "           alien['speed'] = 'medium'\n",
        "           alien['points'] = 10\n",
        "        elif alien['color'] == 'yellow':\n",
        "            alien['color'] = 'red'\n",
        "            alien['speed'] = 'fast'\n",
        "            alien['points'] = 15\n",
        "\n",
        "            "
      ],
      "metadata": {
        "id": "P0FYvmhlUKK3"
      },
      "execution_count": null,
      "outputs": []
    }
  ]
}